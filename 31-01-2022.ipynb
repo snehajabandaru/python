{
 "cells": [
  {
   "cell_type": "markdown",
   "id": "2143ca6d",
   "metadata": {},
   "source": [
    "# **PYTHON PROGRAMMING LANGUAGE**"
   ]
  },
  {
   "cell_type": "markdown",
   "id": "6aaa9e25",
   "metadata": {},
   "source": [
    "# welcome to my world\n",
    "## welcome to my world\n",
    "### welcome to my world\n",
    "#### welcome to my world\n",
    "##### welcome to my world\n",
    "###### welcome to my world"
   ]
  },
  {
   "cell_type": "markdown",
   "id": "7a716741",
   "metadata": {},
   "source": [
    "*vasavi*"
   ]
  },
  {
   "cell_type": "markdown",
   "id": "3620adbc",
   "metadata": {},
   "source": [
    "**vasavi**"
   ]
  },
  {
   "cell_type": "markdown",
   "id": "6257c4ce",
   "metadata": {},
   "source": [
    "***vasavi***"
   ]
  },
  {
   "cell_type": "markdown",
   "id": "3b7164d5",
   "metadata": {},
   "source": [
    "I AM SNEHAJA BANDARU  \n",
    "IAM FROM VELAGAPALLI  \n",
    "I AM STUDYING BTECH 2ND YEAR  "
   ]
  },
  {
   "cell_type": "markdown",
   "id": "5562f348",
   "metadata": {},
   "source": [
    "yfdkyfrehkgfhjugjggyugheqwroiqjgbvjhverkgvjblnkqioqnxfoylwhkwehgkqfjyhdl\n",
    "l;lqhjkgqukelwgripoipouqmajsidygkjldh"
   ]
  },
  {
   "cell_type": "markdown",
   "id": "1ef3437d",
   "metadata": {},
   "source": [
    "## Unorder list and sub list\n",
    "+ app  \n",
    "- below  \n",
    "* call  \n",
    "    + app  \n",
    "    - below  \n",
    "    * call \n",
    "        + app  \n",
    "        - below  \n",
    "        * call  \n",
    "           \n",
    "    "
   ]
  },
  {
   "cell_type": "markdown",
   "id": "531ff129",
   "metadata": {},
   "source": [
    "## order list and sub list\n",
    "1. asdf  \n",
    "2. ;lkj\n",
    "3. poiu  \n",
    "    4. qwert  \n",
    "    5. zxcv  \n",
    "    6. ,mnb  "
   ]
  },
  {
   "cell_type": "markdown",
   "id": "257f6514",
   "metadata": {},
   "source": [
    "## COMMENTS :-  \n",
    "    - User readable information or data.  \n",
    "    - Comments does's not execute.  \n",
    "    - It is mentioned in '#'.  \n",
    "    -  For multipile line comments in the formation of \"\".   \n"
   ]
  },
  {
   "cell_type": "markdown",
   "id": "a225e83c",
   "metadata": {},
   "source": [
    "## VARIABLES:-  \n",
    "- Which is used storing data  \n",
    "- Variable  is must be used in underscope  \n",
    "- Variable is does not start with numbers and special symbold.  "
   ]
  },
  {
   "cell_type": "markdown",
   "id": "b394c814",
   "metadata": {},
   "source": [
    "## VARIABLE:-  \n",
    "- its store the data  \n",
    "- its used to under scope  \n",
    "- it does not used to start number and special symbols  "
   ]
  },
  {
   "cell_type": "code",
   "execution_count": 4,
   "id": "14ecfb7d",
   "metadata": {},
   "outputs": [
    {
     "data": {
      "text/plain": [
       "1234567"
      ]
     },
     "execution_count": 4,
     "metadata": {},
     "output_type": "execute_result"
    }
   ],
   "source": [
    "python=1234567  \n",
    "python"
   ]
  },
  {
   "cell_type": "code",
   "execution_count": 10,
   "id": "e0c86ef0",
   "metadata": {},
   "outputs": [
    {
     "ename": "SyntaxError",
     "evalue": "invalid syntax (Temp/ipykernel_6100/4081869598.py, line 1)",
     "output_type": "error",
     "traceback": [
      "\u001b[1;36m  File \u001b[1;32m\"C:\\Users\\Lab\\AppData\\Local\\Temp/ipykernel_6100/4081869598.py\"\u001b[1;36m, line \u001b[1;32m1\u001b[0m\n\u001b[1;33m    123python=123\u001b[0m\n\u001b[1;37m       ^\u001b[0m\n\u001b[1;31mSyntaxError\u001b[0m\u001b[1;31m:\u001b[0m invalid syntax\n"
     ]
    }
   ],
   "source": [
    "123python=123\n",
    "python"
   ]
  },
  {
   "cell_type": "markdown",
   "id": "c1206787",
   "metadata": {},
   "source": [
    "## DATA TYPES:-  \n",
    "- int(integer)  \n",
    "- float(intger with decimal)  \n",
    "- str(combination of character and no of character)  \n",
    "- complex(number with real)  \n",
    "- boolean(true,false)  "
   ]
  },
  {
   "cell_type": "code",
   "execution_count": 15,
   "id": "8affbd0c",
   "metadata": {},
   "outputs": [],
   "source": [
    "a=123  \n",
    "b=32.67    \n",
    "c=\"snehaja\"  \n",
    "d='b'  \n",
    "e=1+2j  \n",
    "f='1+2j'  \n",
    "g=True   "
   ]
  },
  {
   "cell_type": "code",
   "execution_count": 16,
   "id": "bd266c48",
   "metadata": {},
   "outputs": [
    {
     "name": "stdout",
     "output_type": "stream",
     "text": [
      "<class 'int'>\n",
      "<class 'float'>\n",
      "<class 'str'>\n",
      "<class 'str'>\n",
      "<class 'str'>\n",
      "<class 'bool'>\n"
     ]
    }
   ],
   "source": [
    "print(type(a))  \n",
    "print(type(b))  \n",
    "print(type(c))  \n",
    "print(type(d))  \n",
    "print(type(f))  \n",
    "print(type(g))  "
   ]
  },
  {
   "cell_type": "markdown",
   "id": "d0b6e78e",
   "metadata": {},
   "source": [
    "### Type casting\n",
    "- Which convert the data from one data to another data"
   ]
  },
  {
   "cell_type": "code",
   "execution_count": 2,
   "id": "6297342e",
   "metadata": {},
   "outputs": [
    {
     "name": "stdout",
     "output_type": "stream",
     "text": [
      "<class 'int'>\n"
     ]
    }
   ],
   "source": [
    "_abc=324  \n",
    "print(type(_abc))  "
   ]
  },
  {
   "cell_type": "code",
   "execution_count": 3,
   "id": "4ec059a4",
   "metadata": {},
   "outputs": [
    {
     "name": "stdout",
     "output_type": "stream",
     "text": [
      "<class 'str'>\n",
      "324\n"
     ]
    }
   ],
   "source": [
    "z=str(_abc)  \n",
    "print(type(z))  \n",
    "print(z)  "
   ]
  },
  {
   "cell_type": "code",
   "execution_count": 4,
   "id": "ecfb73a3",
   "metadata": {},
   "outputs": [
    {
     "name": "stdout",
     "output_type": "stream",
     "text": [
      "<class 'float'>\n",
      "324.0\n"
     ]
    }
   ],
   "source": [
    "z=float(_abc)  \n",
    "print(type(z))  \n",
    "print(z)  "
   ]
  },
  {
   "cell_type": "code",
   "execution_count": 5,
   "id": "cdd05685",
   "metadata": {},
   "outputs": [
    {
     "name": "stdout",
     "output_type": "stream",
     "text": [
      "<class 'complex'>\n",
      "(324+0j)\n"
     ]
    }
   ],
   "source": [
    "z=complex(_abc)  \n",
    "print(type(z))  \n",
    "print(z)"
   ]
  },
  {
   "cell_type": "code",
   "execution_count": 6,
   "id": "4bb03013",
   "metadata": {},
   "outputs": [
    {
     "ename": "NameError",
     "evalue": "name 'abc' is not defined",
     "output_type": "error",
     "traceback": [
      "\u001b[1;31m---------------------------------------------------------------------------\u001b[0m",
      "\u001b[1;31mNameError\u001b[0m                                 Traceback (most recent call last)",
      "\u001b[1;32m~\\AppData\\Local\\Temp/ipykernel_1424/3789439297.py\u001b[0m in \u001b[0;36m<module>\u001b[1;34m\u001b[0m\n\u001b[1;32m----> 1\u001b[1;33m \u001b[0mz\u001b[0m\u001b[1;33m=\u001b[0m\u001b[0mint\u001b[0m\u001b[1;33m(\u001b[0m\u001b[0mabc\u001b[0m\u001b[1;33m)\u001b[0m\u001b[1;33m\u001b[0m\u001b[1;33m\u001b[0m\u001b[0m\n\u001b[0m\u001b[0;32m      2\u001b[0m \u001b[0mprint\u001b[0m\u001b[1;33m(\u001b[0m\u001b[0mtype\u001b[0m\u001b[1;33m(\u001b[0m\u001b[0mz\u001b[0m\u001b[1;33m)\u001b[0m\u001b[1;33m)\u001b[0m\u001b[1;33m\u001b[0m\u001b[1;33m\u001b[0m\u001b[0m\n\u001b[0;32m      3\u001b[0m \u001b[0mprint\u001b[0m\u001b[1;33m(\u001b[0m\u001b[0mz\u001b[0m\u001b[1;33m)\u001b[0m\u001b[1;33m\u001b[0m\u001b[1;33m\u001b[0m\u001b[0m\n",
      "\u001b[1;31mNameError\u001b[0m: name 'abc' is not defined"
     ]
    }
   ],
   "source": [
    "z=int(abc)\n",
    "print(type(z))\n",
    "print(z)"
   ]
  },
  {
   "cell_type": "code",
   "execution_count": 7,
   "id": "37f656f5",
   "metadata": {},
   "outputs": [
    {
     "name": "stdout",
     "output_type": "stream",
     "text": [
      "<class 'int'>\n",
      "12344567\n"
     ]
    }
   ],
   "source": [
    "abc=\"12344567\"\n",
    "z=int(abc)\n",
    "print(type(z))\n",
    "print(z)"
   ]
  },
  {
   "cell_type": "code",
   "execution_count": 8,
   "id": "dcfabcb4",
   "metadata": {},
   "outputs": [
    {
     "name": "stdout",
     "output_type": "stream",
     "text": [
      "<class 'float'>\n",
      "12344567.0\n"
     ]
    }
   ],
   "source": [
    "z=float(abc)\n",
    "print(type(z))\n",
    "print(z)"
   ]
  },
  {
   "cell_type": "code",
   "execution_count": 10,
   "id": "d3fa90a1",
   "metadata": {},
   "outputs": [
    {
     "name": "stdout",
     "output_type": "stream",
     "text": [
      "<class 'complex'>\n",
      "(12344567+0j)\n"
     ]
    }
   ],
   "source": [
    "z=complex(abc)\n",
    "print(type(z))\n",
    "print(z)"
   ]
  },
  {
   "cell_type": "code",
   "execution_count": 11,
   "id": "2557ddf9",
   "metadata": {},
   "outputs": [
    {
     "name": "stdout",
     "output_type": "stream",
     "text": [
      "<class 'int'>\n",
      "45\n"
     ]
    }
   ],
   "source": [
    "vasavi=45.234\n",
    "z=int(vasavi)\n",
    "print(type(z))\n",
    "print(z)"
   ]
  },
  {
   "cell_type": "code",
   "execution_count": 12,
   "id": "9c24bcf6",
   "metadata": {},
   "outputs": [
    {
     "name": "stdout",
     "output_type": "stream",
     "text": [
      "<class 'str'>\n",
      "45.234\n"
     ]
    }
   ],
   "source": [
    "vasavi=45.234\n",
    "z=str(vasavi)\n",
    "print(type(z))\n",
    "print(z)"
   ]
  },
  {
   "cell_type": "code",
   "execution_count": 14,
   "id": "1eb61953",
   "metadata": {},
   "outputs": [
    {
     "name": "stdout",
     "output_type": "stream",
     "text": [
      "<class 'complex'>\n",
      "(45.234+0j)\n"
     ]
    }
   ],
   "source": [
    "vasavi=45.234\n",
    "z=complex(vasavi)\n",
    "print(type(z))\n",
    "print(z)"
   ]
  },
  {
   "cell_type": "code",
   "execution_count": null,
   "id": "312fed94",
   "metadata": {},
   "outputs": [],
   "source": []
  }
 ],
 "metadata": {
  "kernelspec": {
   "display_name": "Python 3 (ipykernel)",
   "language": "python",
   "name": "python3"
  },
  "language_info": {
   "codemirror_mode": {
    "name": "ipython",
    "version": 3
   },
   "file_extension": ".py",
   "mimetype": "text/x-python",
   "name": "python",
   "nbconvert_exporter": "python",
   "pygments_lexer": "ipython3",
   "version": "3.9.7"
  }
 },
 "nbformat": 4,
 "nbformat_minor": 5
}
