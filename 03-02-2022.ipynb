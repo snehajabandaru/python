{
 "cells": [
  {
   "cell_type": "markdown",
   "id": "fae691b7",
   "metadata": {},
   "source": [
    "### While  \n",
    " - it execute block or set of instruction untile the condition is false  \n",
    " - while we dont the range  \n",
    " - execute faster then the for loop  \n",
    " - user increament  "
   ]
  },
  {
   "cell_type": "code",
   "execution_count": null,
   "id": "19f4867f",
   "metadata": {},
   "outputs": [],
   "source": [
    "# while syntax  \n",
    "initilization  \n",
    "while condition:\n",
    "    statement\n",
    "    ince/decrement"
   ]
  },
  {
   "cell_type": "code",
   "execution_count": 2,
   "id": "3ec93a4f",
   "metadata": {},
   "outputs": [
    {
     "name": "stdout",
     "output_type": "stream",
     "text": [
      "SRI VASAVI COLLEGE\n",
      "SRI VASAVI COLLEGE\n",
      "SRI VASAVI COLLEGE\n",
      "SRI VASAVI COLLEGE\n",
      "SRI VASAVI COLLEGE\n"
     ]
    }
   ],
   "source": [
    "n=1\n",
    "while n<=5:\n",
    "    print(\"SRI VASAVI COLLEGE\")\n",
    "    n=n+1"
   ]
  },
  {
   "cell_type": "code",
   "execution_count": 4,
   "id": "4a3e87b2",
   "metadata": {},
   "outputs": [
    {
     "name": "stdout",
     "output_type": "stream",
     "text": [
      "10 9 8 7 6 5 4 3 2 1 "
     ]
    }
   ],
   "source": [
    "n=10\n",
    "while n>=1:\n",
    "    print(n,end=\" \")\n",
    "    n=n-1\n"
   ]
  },
  {
   "cell_type": "code",
   "execution_count": 5,
   "id": "5fb099ae",
   "metadata": {},
   "outputs": [
    {
     "name": "stdout",
     "output_type": "stream",
     "text": [
      "1 2 3 4 5 6 7 8 9 10 "
     ]
    }
   ],
   "source": [
    "n=1\n",
    "while n<=10:\n",
    "    print(n,end=\" \")\n",
    "    n=n+1"
   ]
  },
  {
   "cell_type": "code",
   "execution_count": 6,
   "id": "b4a58206",
   "metadata": {},
   "outputs": [
    {
     "name": "stdout",
     "output_type": "stream",
     "text": [
      "1234\n",
      "\n",
      "digit count: 4\n"
     ]
    }
   ],
   "source": [
    "# I/P 1234\n",
    "# O/P digit count:4\n",
    "s=int(input())\n",
    "c=0\n",
    "while(s!=0): #1234!=0 123!=0 12!=0 1!=0\n",
    "    c=c+1    #1234%10=4 123%10=3 12%10=2\n",
    "    s=s//10\n",
    "print(\"\\ndigit count:\",c)\n"
   ]
  },
  {
   "cell_type": "code",
   "execution_count": 11,
   "id": "2a4bdae0",
   "metadata": {},
   "outputs": [
    {
     "name": "stdout",
     "output_type": "stream",
     "text": [
      "121\n",
      "its palindrom number\n"
     ]
    }
   ],
   "source": [
    "# check the given number is palindrom or not \n",
    "# 121-121\n",
    "# mom-mom\n",
    "n=int(input())\n",
    "temp=n\n",
    "rev=0 \n",
    "while(n!=0):\n",
    "    rem=n%10\n",
    "    rev=rev*10+rem\n",
    "    n=n//10\n",
    "if(temp==rev):\n",
    "    print(\"its palindrom number\")\n",
    "else:\n",
    "    print(\"its not palidorm\")\n",
    "    \n",
    "    \n",
    "    \n"
   ]
  },
  {
   "cell_type": "code",
   "execution_count": null,
   "id": "15eaa6e1",
   "metadata": {},
   "outputs": [],
   "source": [
    "# nested for loop \n",
    "for iter in range(start,end,step):\n",
    "    for iter in range(start,end,step)\n",
    "    statemnet1\n",
    "    statementn\n",
    "    "
   ]
  },
  {
   "cell_type": "code",
   "execution_count": null,
   "id": "2c66c970",
   "metadata": {},
   "outputs": [],
   "source": [
    " # matrix format\n",
    "    - rows, columns\n",
    "    - two dimensions\n",
    "        1 2 3\n",
    "        1 2 3\n",
    "        "
   ]
  },
  {
   "cell_type": "code",
   "execution_count": 13,
   "id": "37b5d2f2",
   "metadata": {},
   "outputs": [
    {
     "name": "stdout",
     "output_type": "stream",
     "text": [
      "1 1 1 1 \n",
      "2 2 2 2 \n",
      "3 3 3 3 \n",
      "4 4 4 4 \n"
     ]
    }
   ],
   "source": [
    "for row in range(1,5):\n",
    "    for column in range(1,5):\n",
    "        print(row,end=\" \")\n",
    "    print() # new line"
   ]
  },
  {
   "cell_type": "code",
   "execution_count": 14,
   "id": "02f3e30f",
   "metadata": {},
   "outputs": [
    {
     "name": "stdout",
     "output_type": "stream",
     "text": [
      "1 2 3 4 \n",
      "1 2 3 4 \n",
      "1 2 3 4 \n",
      "1 2 3 4 \n"
     ]
    }
   ],
   "source": [
    "for row in range(1,5):\n",
    "    for column in range(1,5):\n",
    "        print(column,end=\" \")\n",
    "    print() # new line"
   ]
  },
  {
   "cell_type": "code",
   "execution_count": 18,
   "id": "3fe26009",
   "metadata": {},
   "outputs": [
    {
     "name": "stdout",
     "output_type": "stream",
     "text": [
      "1*1 1*2 1*3 1*4 \n",
      "2*1 2*2 2*3 2*4 \n",
      "3*1 3*2 3*3 3*4 \n",
      "4*1 4*2 4*3 4*4 \n"
     ]
    }
   ],
   "source": [
    "for row in range(1,5):\n",
    "    for column in range(1,5):\n",
    "        print(row,column,sep=\"*\",end=\" \")\n",
    "    print() # new line"
   ]
  },
  {
   "cell_type": "code",
   "execution_count": 16,
   "id": "6a78ae8d",
   "metadata": {},
   "outputs": [
    {
     "name": "stdout",
     "output_type": "stream",
     "text": [
      "* * * * \n",
      "* * * * \n",
      "* * * * \n",
      "* * * * \n"
     ]
    }
   ],
   "source": [
    "for row in range(1,5):\n",
    "    for column in range(1,5):\n",
    "        print(\"*\",end=\" \")\n",
    "    print() # new line"
   ]
  },
  {
   "cell_type": "code",
   "execution_count": 3,
   "id": "bfd38c96",
   "metadata": {},
   "outputs": [
    {
     "name": "stdout",
     "output_type": "stream",
     "text": [
      "* \n",
      "* * \n",
      "* * * \n",
      "* * * * \n",
      "* * * * * \n"
     ]
    }
   ],
   "source": [
    "for row in range(1,6):\n",
    "    for column in range(1,row+1):\n",
    "        print(\"*\",end=\" \")\n",
    "    print() # new line"
   ]
  },
  {
   "cell_type": "code",
   "execution_count": 4,
   "id": "b63444bc",
   "metadata": {},
   "outputs": [
    {
     "name": "stdout",
     "output_type": "stream",
     "text": [
      "* * * * * * \n",
      "* * * * * \n",
      "* * * * \n",
      "* * * \n",
      "* * \n",
      "* \n"
     ]
    }
   ],
   "source": [
    "for row in range(6,0,-1):\n",
    "    for column in range(1,row+1):\n",
    "        print(\"*\",end=\" \")\n",
    "    print() # new line"
   ]
  },
  {
   "cell_type": "code",
   "execution_count": 5,
   "id": "919f51ce",
   "metadata": {},
   "outputs": [
    {
     "name": "stdout",
     "output_type": "stream",
     "text": [
      "* \n",
      "* * \n",
      "* * * \n",
      "* * * * \n",
      "* * * * * \n",
      "* * * * * * \n",
      "* * * * * \n",
      "* * * * \n",
      "* * * \n",
      "* * \n",
      "* \n"
     ]
    }
   ],
   "source": [
    "for row in range(1,6):\n",
    "    for column in range(1,row+1):\n",
    "        print(\"*\",end=\" \")\n",
    "    print() # new line\n",
    "for row in range(6,0,-1):\n",
    "    for column in range(1,row+1):\n",
    "        print(\"*\",end=\" \")\n",
    "    print() # new line"
   ]
  },
  {
   "cell_type": "code",
   "execution_count": 1,
   "id": "5b6adf92",
   "metadata": {},
   "outputs": [
    {
     "name": "stdout",
     "output_type": "stream",
     "text": [
      "1\n",
      "10\n",
      "2 3 5 7 "
     ]
    }
   ],
   "source": [
    "# 1to 10\n",
    "# prime number : 2,3,5,7\n",
    "x=int(input())\n",
    "y=int(input())\n",
    "for n in range(x,y+1): # n=1 n=2 n=3 n=4\n",
    "    c=0\n",
    "    for var in range (1,n+1): #(1,1(1,2)(1,3)(1,4)\n",
    "        if n%var==0 # factors\n",
    "            c+=1    # factors count\n",
    "    if c==2:\n",
    "        print(n,end=\" \")\n",
    "    "
   ]
  },
  {
   "cell_type": "code",
   "execution_count": null,
   "id": "59054107",
   "metadata": {},
   "outputs": [],
   "source": [
    "#nested while\n",
    "- loop inside another loop\n"
   ]
  },
  {
   "cell_type": "code",
   "execution_count": null,
   "id": "8b93bf67",
   "metadata": {},
   "outputs": [],
   "source": [
    "# syyntax\n",
    "initilization\n",
    "while condition:\n",
    "    statement\n",
    "    incr/decr\n",
    "    while cindtion:\n",
    "        statement\n",
    "        incr\\decr"
   ]
  },
  {
   "cell_type": "code",
   "execution_count": 8,
   "id": "3589f867",
   "metadata": {},
   "outputs": [
    {
     "name": "stdout",
     "output_type": "stream",
     "text": [
      "1 * 1 = 1\n",
      "1 * 2 = 2\n",
      "1 * 3 = 3\n",
      "1 * 4 = 4\n",
      "1 * 5 = 5\n",
      "1 * 6 = 6\n",
      "1 * 7 = 7\n",
      "1 * 8 = 8\n",
      "1 * 9 = 9\n",
      "1 * 10 = 10\n",
      "\n",
      "2 * 1 = 2\n",
      "2 * 2 = 4\n",
      "2 * 3 = 6\n",
      "2 * 4 = 8\n",
      "2 * 5 = 10\n",
      "2 * 6 = 12\n",
      "2 * 7 = 14\n",
      "2 * 8 = 16\n",
      "2 * 9 = 18\n",
      "2 * 10 = 20\n",
      "\n",
      "3 * 1 = 3\n",
      "3 * 2 = 6\n",
      "3 * 3 = 9\n",
      "3 * 4 = 12\n",
      "3 * 5 = 15\n",
      "3 * 6 = 18\n",
      "3 * 7 = 21\n",
      "3 * 8 = 24\n",
      "3 * 9 = 27\n",
      "3 * 10 = 30\n",
      "\n",
      "4 * 1 = 4\n",
      "4 * 2 = 8\n",
      "4 * 3 = 12\n",
      "4 * 4 = 16\n",
      "4 * 5 = 20\n",
      "4 * 6 = 24\n",
      "4 * 7 = 28\n",
      "4 * 8 = 32\n",
      "4 * 9 = 36\n",
      "4 * 10 = 40\n",
      "\n",
      "5 * 1 = 5\n",
      "5 * 2 = 10\n",
      "5 * 3 = 15\n",
      "5 * 4 = 20\n",
      "5 * 5 = 25\n",
      "5 * 6 = 30\n",
      "5 * 7 = 35\n",
      "5 * 8 = 40\n",
      "5 * 9 = 45\n",
      "5 * 10 = 50\n",
      "\n",
      "6 * 1 = 6\n",
      "6 * 2 = 12\n",
      "6 * 3 = 18\n",
      "6 * 4 = 24\n",
      "6 * 5 = 30\n",
      "6 * 6 = 36\n",
      "6 * 7 = 42\n",
      "6 * 8 = 48\n",
      "6 * 9 = 54\n",
      "6 * 10 = 60\n",
      "\n",
      "7 * 1 = 7\n",
      "7 * 2 = 14\n",
      "7 * 3 = 21\n",
      "7 * 4 = 28\n",
      "7 * 5 = 35\n",
      "7 * 6 = 42\n",
      "7 * 7 = 49\n",
      "7 * 8 = 56\n",
      "7 * 9 = 63\n",
      "7 * 10 = 70\n",
      "\n",
      "8 * 1 = 8\n",
      "8 * 2 = 16\n",
      "8 * 3 = 24\n",
      "8 * 4 = 32\n",
      "8 * 5 = 40\n",
      "8 * 6 = 48\n",
      "8 * 7 = 56\n",
      "8 * 8 = 64\n",
      "8 * 9 = 72\n",
      "8 * 10 = 80\n",
      "\n",
      "9 * 1 = 9\n",
      "9 * 2 = 18\n",
      "9 * 3 = 27\n",
      "9 * 4 = 36\n",
      "9 * 5 = 45\n",
      "9 * 6 = 54\n",
      "9 * 7 = 63\n",
      "9 * 8 = 72\n",
      "9 * 9 = 81\n",
      "9 * 10 = 90\n",
      "\n",
      "10 * 1 = 10\n",
      "10 * 2 = 20\n",
      "10 * 3 = 30\n",
      "10 * 4 = 40\n",
      "10 * 5 = 50\n",
      "10 * 6 = 60\n",
      "10 * 7 = 70\n",
      "10 * 8 = 80\n",
      "10 * 9 = 90\n",
      "10 * 10 = 100\n",
      "\n"
     ]
    }
   ],
   "source": [
    "# 1 to 10 tables\n",
    "i=1\n",
    "while i<=10:\n",
    "    j=1\n",
    "    while j<=10:\n",
    "        print(i,\"*\",j,\"=\",i*j)\n",
    "        j+=1\n",
    "    print()\n",
    "    i+=1"
   ]
  },
  {
   "cell_type": "markdown",
   "id": "833e0b12",
   "metadata": {},
   "source": [
    "## Jumps statement\n",
    "* we called as unconditional jumps\n",
    "    - Break\n",
    "    - continue\n",
    "    - pass"
   ]
  },
  {
   "cell_type": "markdown",
   "id": "080ccd25",
   "metadata": {},
   "source": [
    "### Break  \n",
    "- terminate the current loop statemnet \n",
    "- break is keyword"
   ]
  },
  {
   "cell_type": "code",
   "execution_count": 9,
   "id": "1237283d",
   "metadata": {},
   "outputs": [
    {
     "name": "stdout",
     "output_type": "stream",
     "text": [
      "p\n",
      "y\n",
      "t\n"
     ]
    }
   ],
   "source": [
    "for i in \"python\":\n",
    "    if i=='h':\n",
    "        break\n",
    "    print(i)"
   ]
  },
  {
   "cell_type": "code",
   "execution_count": 4,
   "id": "2a5b5e54",
   "metadata": {},
   "outputs": [
    {
     "name": "stdout",
     "output_type": "stream",
     "text": [
      "1\n",
      "2\n",
      "3\n",
      "4\n",
      "5\n"
     ]
    }
   ],
   "source": [
    "n=1\n",
    "while n<=10:\n",
    "    print(n)\n",
    "    n+=1\n",
    "    if n==6:\n",
    "        break"
   ]
  },
  {
   "cell_type": "markdown",
   "id": "b4fcb1bd",
   "metadata": {},
   "source": [
    "### Continue  \n",
    "- it skip only current iteration and continue the next iteration\n",
    "- continue is keyword"
   ]
  },
  {
   "cell_type": "code",
   "execution_count": 2,
   "id": "87dd9f22",
   "metadata": {},
   "outputs": [
    {
     "name": "stdout",
     "output_type": "stream",
     "text": [
      "0\n",
      "1\n",
      "2\n",
      "3\n",
      "4\n",
      "5\n",
      "7\n",
      "8\n",
      "9\n"
     ]
    }
   ],
   "source": [
    "for i in range(10):\n",
    "    if i==6:\n",
    "        continue\n",
    "        print(\"fdp\")\n",
    "    print(i)"
   ]
  },
  {
   "cell_type": "code",
   "execution_count": 11,
   "id": "406908c6",
   "metadata": {},
   "outputs": [
    {
     "name": "stdout",
     "output_type": "stream",
     "text": [
      "1 3 5 7 9 "
     ]
    }
   ],
   "source": [
    "# print odd number using even numbers condition using co\n",
    "for i in range(1,10):\n",
    "    if i%2==0:\n",
    "        continue\n",
    "    print(i,end=\" \")"
   ]
  },
  {
   "cell_type": "markdown",
   "id": "c4a0cce9",
   "metadata": {},
   "source": [
    "### Pass\n",
    "- it is keyword\n",
    "- when we need condition scientifically correct to change another change another operation\n",
    "- it is null operation\n",
    "- pass statement we use to create a empty classes also\n",
    "\n"
   ]
  },
  {
   "cell_type": "code",
   "execution_count": 12,
   "id": "aad91b63",
   "metadata": {},
   "outputs": [
    {
     "name": "stdout",
     "output_type": "stream",
     "text": [
      "p\n",
      "y\n",
      "t\n",
      "pass executed\n",
      "h\n",
      "o\n",
      "n\n"
     ]
    }
   ],
   "source": [
    "x=\"python\"\n",
    "for i in x:\n",
    "    if i=='h':\n",
    "        pass\n",
    "        print(\"pass executed\")\n",
    "    print(i)"
   ]
  },
  {
   "cell_type": "markdown",
   "id": "c94d0464",
   "metadata": {},
   "source": [
    "## String\n",
    "- string is a group of characters \n",
    "- string is a derived datatype and immulate\n",
    "- all strings are new return values"
   ]
  },
  {
   "cell_type": "code",
   "execution_count": 13,
   "id": "482622a3",
   "metadata": {},
   "outputs": [
    {
     "name": "stdout",
     "output_type": "stream",
     "text": [
      "<class 'str'>\n"
     ]
    }
   ],
   "source": [
    "a=\" sri vasi college\"\n",
    "print(type(a))"
   ]
  },
  {
   "cell_type": "code",
   "execution_count": 14,
   "id": "64a1f9e3",
   "metadata": {},
   "outputs": [
    {
     "name": "stdout",
     "output_type": "stream",
     "text": [
      "17\n"
     ]
    }
   ],
   "source": [
    "print(len(a))"
   ]
  },
  {
   "cell_type": "code",
   "execution_count": 21,
   "id": "6d8440c7",
   "metadata": {},
   "outputs": [
    {
     "name": "stdout",
     "output_type": "stream",
     "text": [
      "h\n",
      "y\n",
      "['h', 'n', 'o', 'p', 't', 'y']\n"
     ]
    }
   ],
   "source": [
    "print(min(a))\n",
    "print(max(a))\n",
    "print(sorted(a))\n",
    "#print(sum(a))"
   ]
  },
  {
   "cell_type": "code",
   "execution_count": 22,
   "id": "5a110d82",
   "metadata": {},
   "outputs": [
    {
     "name": "stdout",
     "output_type": "stream",
     "text": [
      "pythonworkshop\n",
      "python workshop\n"
     ]
    },
    {
     "ename": "TypeError",
     "evalue": "can't multiply sequence by non-int of type 'str'",
     "output_type": "error",
     "traceback": [
      "\u001b[1;31m---------------------------------------------------------------------------\u001b[0m",
      "\u001b[1;31mTypeError\u001b[0m                                 Traceback (most recent call last)",
      "\u001b[1;32m~\\AppData\\Local\\Temp/ipykernel_1696/303278063.py\u001b[0m in \u001b[0;36m<module>\u001b[1;34m\u001b[0m\n\u001b[0;32m      3\u001b[0m \u001b[0mprint\u001b[0m\u001b[1;33m(\u001b[0m\u001b[0ma\u001b[0m\u001b[1;33m+\u001b[0m\u001b[0mb\u001b[0m\u001b[1;33m)\u001b[0m\u001b[1;33m\u001b[0m\u001b[1;33m\u001b[0m\u001b[0m\n\u001b[0;32m      4\u001b[0m \u001b[0mprint\u001b[0m\u001b[1;33m(\u001b[0m\u001b[0ma\u001b[0m\u001b[1;33m,\u001b[0m\u001b[0mb\u001b[0m\u001b[1;33m)\u001b[0m\u001b[1;33m\u001b[0m\u001b[1;33m\u001b[0m\u001b[0m\n\u001b[1;32m----> 5\u001b[1;33m \u001b[0mprint\u001b[0m\u001b[1;33m(\u001b[0m\u001b[0ma\u001b[0m\u001b[1;33m*\u001b[0m\u001b[0mb\u001b[0m\u001b[1;33m)\u001b[0m\u001b[1;33m\u001b[0m\u001b[1;33m\u001b[0m\u001b[0m\n\u001b[0m",
      "\u001b[1;31mTypeError\u001b[0m: can't multiply sequence by non-int of type 'str'"
     ]
    }
   ],
   "source": [
    "a=\"python\"\n",
    "b=\"workshop\"\n",
    "print(a+b)\n",
    "print(a,b)\n",
    "print(a*b)"
   ]
  },
  {
   "cell_type": "code",
   "execution_count": 29,
   "id": "2ba7fe4d",
   "metadata": {},
   "outputs": [
    {
     "ename": "SyntaxError",
     "evalue": "invalid syntax (Temp/ipykernel_1696/1775612451.py, line 1)",
     "output_type": "error",
     "traceback": [
      "\u001b[1;36m  File \u001b[1;32m\"C:\\Users\\Lab\\AppData\\Local\\Temp/ipykernel_1696/1775612451.py\"\u001b[1;36m, line \u001b[1;32m1\u001b[0m\n\u001b[1;33m    slicing syntax::(start:end:step)\u001b[0m\n\u001b[1;37m            ^\u001b[0m\n\u001b[1;31mSyntaxError\u001b[0m\u001b[1;31m:\u001b[0m invalid syntax\n"
     ]
    }
   ],
   "source": [
    " slicing syntax::(start:end:step)\n",
    "# positive indexing(left or right)\n",
    "# negative indexing(right or left)\n",
    "s=\"python workshop\"\n",
    "print(len(s))\n",
    "print(s[0])\n",
    "print(s[5])\n",
    "print(s[14])\n",
    "print(s[-1])\n",
    "print(s[-2])\n",
    "print(s[::])\n",
    "print(s[::-1])\n",
    "print(s[0:4])\n",
    "print(s[5:12])\n",
    "print(s[-1:-5])"
   ]
  },
  {
   "cell_type": "code",
   "execution_count": 1,
   "id": "6b8e5bc4",
   "metadata": {},
   "outputs": [
    {
     "data": {
      "text/plain": [
       "['__add__',\n",
       " '__class__',\n",
       " '__contains__',\n",
       " '__delattr__',\n",
       " '__dir__',\n",
       " '__doc__',\n",
       " '__eq__',\n",
       " '__format__',\n",
       " '__ge__',\n",
       " '__getattribute__',\n",
       " '__getitem__',\n",
       " '__getnewargs__',\n",
       " '__gt__',\n",
       " '__hash__',\n",
       " '__init__',\n",
       " '__init_subclass__',\n",
       " '__iter__',\n",
       " '__le__',\n",
       " '__len__',\n",
       " '__lt__',\n",
       " '__mod__',\n",
       " '__mul__',\n",
       " '__ne__',\n",
       " '__new__',\n",
       " '__reduce__',\n",
       " '__reduce_ex__',\n",
       " '__repr__',\n",
       " '__rmod__',\n",
       " '__rmul__',\n",
       " '__setattr__',\n",
       " '__sizeof__',\n",
       " '__str__',\n",
       " '__subclasshook__',\n",
       " 'capitalize',\n",
       " 'casefold',\n",
       " 'center',\n",
       " 'count',\n",
       " 'encode',\n",
       " 'endswith',\n",
       " 'expandtabs',\n",
       " 'find',\n",
       " 'format',\n",
       " 'format_map',\n",
       " 'index',\n",
       " 'isalnum',\n",
       " 'isalpha',\n",
       " 'isascii',\n",
       " 'isdecimal',\n",
       " 'isdigit',\n",
       " 'isidentifier',\n",
       " 'islower',\n",
       " 'isnumeric',\n",
       " 'isprintable',\n",
       " 'isspace',\n",
       " 'istitle',\n",
       " 'isupper',\n",
       " 'join',\n",
       " 'ljust',\n",
       " 'lower',\n",
       " 'lstrip',\n",
       " 'maketrans',\n",
       " 'partition',\n",
       " 'removeprefix',\n",
       " 'removesuffix',\n",
       " 'replace',\n",
       " 'rfind',\n",
       " 'rindex',\n",
       " 'rjust',\n",
       " 'rpartition',\n",
       " 'rsplit',\n",
       " 'rstrip',\n",
       " 'split',\n",
       " 'splitlines',\n",
       " 'startswith',\n",
       " 'strip',\n",
       " 'swapcase',\n",
       " 'title',\n",
       " 'translate',\n",
       " 'upper',\n",
       " 'zfill']"
      ]
     },
     "execution_count": 1,
     "metadata": {},
     "output_type": "execute_result"
    }
   ],
   "source": [
    "dir(str)"
   ]
  },
  {
   "cell_type": "code",
   "execution_count": 5,
   "id": "8fc1c8fe",
   "metadata": {},
   "outputs": [],
   "source": [
    "s='vasavi coolege'\n",
    "s=\"vasavi college\"\n",
    "\n",
    "s1=''' i am from \n",
    "velagapalli\n",
    "i am snehaja '''\n",
    "s2=\"\"\" engineering\n",
    "college of cse \n",
    "department \"\"\"\n"
   ]
  },
  {
   "cell_type": "code",
   "execution_count": 6,
   "id": "bbbd45ca",
   "metadata": {},
   "outputs": [
    {
     "name": "stdout",
     "output_type": "stream",
     "text": [
      " i am from \n",
      "velagapalli\n",
      "i am snehaja \n"
     ]
    }
   ],
   "source": [
    "print(s1)"
   ]
  },
  {
   "cell_type": "code",
   "execution_count": 7,
   "id": "dd836300",
   "metadata": {},
   "outputs": [
    {
     "name": "stdout",
     "output_type": "stream",
     "text": [
      "engineering\n",
      "college of cse \n",
      "department\n"
     ]
    }
   ],
   "source": [
    "print(s2)"
   ]
  },
  {
   "cell_type": "code",
   "execution_count": 8,
   "id": "66f0f532",
   "metadata": {},
   "outputs": [
    {
     "name": "stdout",
     "output_type": "stream",
     "text": [
      "14\n"
     ]
    }
   ],
   "source": [
    "print(len(s))"
   ]
  },
  {
   "cell_type": "code",
   "execution_count": 9,
   "id": "84e7bedd",
   "metadata": {},
   "outputs": [
    {
     "name": "stdout",
     "output_type": "stream",
     "text": [
      "37\n"
     ]
    }
   ],
   "source": [
    "print(len(s1))"
   ]
  },
  {
   "cell_type": "code",
   "execution_count": 10,
   "id": "801ebad4",
   "metadata": {},
   "outputs": [
    {
     "name": "stdout",
     "output_type": "stream",
     "text": [
      "Python workshop\n"
     ]
    }
   ],
   "source": [
    "p=\"python workshop\"\n",
    "print(p.capitalize())"
   ]
  },
  {
   "cell_type": "code",
   "execution_count": 11,
   "id": "ceab3e57",
   "metadata": {},
   "outputs": [
    {
     "name": "stdout",
     "output_type": "stream",
     "text": [
      "GFHertybJHB\n",
      "PYTHON WORKSHOP\n",
      "python workshop\n"
     ]
    }
   ],
   "source": [
    "n=\"GFHertybJHB\"\n",
    "print(n)\n",
    "print(p.upper())\n",
    "print(p.lower())\n"
   ]
  },
  {
   "cell_type": "code",
   "execution_count": 14,
   "id": "8babe3e4",
   "metadata": {},
   "outputs": [
    {
     "name": "stdout",
     "output_type": "stream",
     "text": [
      "faculty development program\n",
      "Faculty Development Program\n"
     ]
    }
   ],
   "source": [
    "m=\"faculty development program\"\n",
    "print(m)\n",
    "print(m.title())"
   ]
  },
  {
   "cell_type": "code",
   "execution_count": 16,
   "id": "9f7c0660",
   "metadata": {},
   "outputs": [
    {
     "name": "stdout",
     "output_type": "stream",
     "text": [
      "True True False\n"
     ]
    }
   ],
   "source": [
    "s2=\"workshop\"\n",
    "s3=\"WORKSHOP\"\n",
    "s4=\"workshop\"\n",
    "print(s2.islower(),s3.isupper(),s4.isupper())"
   ]
  },
  {
   "cell_type": "code",
   "execution_count": 17,
   "id": "8faa65b7",
   "metadata": {},
   "outputs": [
    {
     "data": {
      "text/plain": [
       "False"
      ]
     },
     "execution_count": 17,
     "metadata": {},
     "output_type": "execute_result"
    }
   ],
   "source": [
    "s7=\"India is my country\"\n",
    "s7.istitle()"
   ]
  },
  {
   "cell_type": "code",
   "execution_count": 18,
   "id": "72f2e20b",
   "metadata": {},
   "outputs": [
    {
     "data": {
      "text/plain": [
       "True"
      ]
     },
     "execution_count": 18,
     "metadata": {},
     "output_type": "execute_result"
    }
   ],
   "source": [
    "s7=\"India Is My Country\"\n",
    "s7.istitle()"
   ]
  },
  {
   "cell_type": "code",
   "execution_count": 19,
   "id": "d9f65db1",
   "metadata": {},
   "outputs": [
    {
     "data": {
      "text/plain": [
       "True"
      ]
     },
     "execution_count": 19,
     "metadata": {},
     "output_type": "execute_result"
    }
   ],
   "source": [
    "s8=\" \"\n",
    "s8.isspace()"
   ]
  },
  {
   "cell_type": "code",
   "execution_count": 20,
   "id": "281696d8",
   "metadata": {},
   "outputs": [
    {
     "data": {
      "text/plain": [
       "False"
      ]
     },
     "execution_count": 20,
     "metadata": {},
     "output_type": "execute_result"
    }
   ],
   "source": [
    "# isdigit is used to identy the digitify in given string\n",
    "# isalpha which return true,alphabets present in given string\n",
    "r=\"puthon3\"\n",
    "r.isalpha()"
   ]
  },
  {
   "cell_type": "code",
   "execution_count": 22,
   "id": "a0825ead",
   "metadata": {},
   "outputs": [
    {
     "data": {
      "text/plain": [
       "False"
      ]
     },
     "execution_count": 22,
     "metadata": {},
     "output_type": "execute_result"
    }
   ],
   "source": [
    "r.isdigit()"
   ]
  },
  {
   "cell_type": "code",
   "execution_count": 24,
   "id": "9d037e75",
   "metadata": {},
   "outputs": [
    {
     "data": {
      "text/plain": [
       "True"
      ]
     },
     "execution_count": 24,
     "metadata": {},
     "output_type": "execute_result"
    }
   ],
   "source": [
    "s=\"345678\"\n",
    "s.isalnum()"
   ]
  },
  {
   "cell_type": "code",
   "execution_count": 25,
   "id": "6859d287",
   "metadata": {},
   "outputs": [
    {
     "data": {
      "text/plain": [
       "True"
      ]
     },
     "execution_count": 25,
     "metadata": {},
     "output_type": "execute_result"
    }
   ],
   "source": [
    "s=\"3456789\"\n",
    "s.isalnum()"
   ]
  },
  {
   "cell_type": "code",
   "execution_count": 27,
   "id": "e77fe3c1",
   "metadata": {},
   "outputs": [
    {
     "data": {
      "text/plain": [
       "['python',\n",
       " 'is',\n",
       " 'a',\n",
       " 'latest',\n",
       " 'technology',\n",
       " 'and',\n",
       " 'todays',\n",
       " 'world',\n",
       " 'somany',\n",
       " 'porgaramms',\n",
       " 'are',\n",
       " 'available']"
      ]
     },
     "execution_count": 27,
     "metadata": {},
     "output_type": "execute_result"
    }
   ],
   "source": [
    "s=\"python is a latest technology and todays world somany porgaramms are available\"\n",
    "s.split()"
   ]
  },
  {
   "cell_type": "code",
   "execution_count": 34,
   "id": "3de1a9ee",
   "metadata": {},
   "outputs": [
    {
     "data": {
      "text/plain": [
       "['python',\n",
       " 'is',\n",
       " 'lates',\n",
       " 'technology',\n",
       " 'and',\n",
       " 'todays',\n",
       " 'world',\n",
       " 'somany',\n",
       " 'porgaramms',\n",
       " 'are',\n",
       " 'available']"
      ]
     },
     "execution_count": 34,
     "metadata": {},
     "output_type": "execute_result"
    }
   ],
   "source": [
    "s=\"python@is@lates@technology@and@todays@world@somany@porgaramms@are@available\"\n",
    "s.split('@')"
   ]
  },
  {
   "cell_type": "code",
   "execution_count": 33,
   "id": "71c9b45f",
   "metadata": {},
   "outputs": [
    {
     "data": {
      "text/plain": [
       "['py',\n",
       " 'hon is a la',\n",
       " 'es',\n",
       " ' ',\n",
       " 'echnology and ',\n",
       " 'odays world somany porgaramms are available']"
      ]
     },
     "execution_count": 33,
     "metadata": {},
     "output_type": "execute_result"
    }
   ],
   "source": [
    "s=\"python is a latest technology and todays world somany porgaramms are available\"\n",
    "s.split('t')"
   ]
  },
  {
   "cell_type": "code",
   "execution_count": 36,
   "id": "e6c29bfe",
   "metadata": {},
   "outputs": [
    {
     "name": "stdout",
     "output_type": "stream",
     "text": [
      "SnEhAjA\n"
     ]
    }
   ],
   "source": [
    "A=\"sNeHaJa\"\n",
    "A2=''\n",
    "for i in A:\n",
    "    if i.islower():\n",
    "        A2 +=i.upper()\n",
    "    else:\n",
    "        A2 +=i.lower()\n",
    "print(A2)"
   ]
  },
  {
   "cell_type": "code",
   "execution_count": 38,
   "id": "2ae2edd3",
   "metadata": {},
   "outputs": [
    {
     "data": {
      "text/plain": [
       "'SnEhAjA'"
      ]
     },
     "execution_count": 38,
     "metadata": {},
     "output_type": "execute_result"
    }
   ],
   "source": [
    "# swapcase\n",
    "A.swapcase()"
   ]
  },
  {
   "cell_type": "code",
   "execution_count": 39,
   "id": "ed6333ca",
   "metadata": {},
   "outputs": [
    {
     "data": {
      "text/plain": [
       "'python is a latest technology and todays world somany porgaramms are available'"
      ]
     },
     "execution_count": 39,
     "metadata": {},
     "output_type": "execute_result"
    }
   ],
   "source": [
    "s=\"python is a latest technology and todays world somany porgaramms are available\"\n",
    "s"
   ]
  },
  {
   "cell_type": "code",
   "execution_count": 41,
   "id": "8c894504",
   "metadata": {},
   "outputs": [
    {
     "data": {
      "text/plain": [
       "11"
      ]
     },
     "execution_count": 41,
     "metadata": {},
     "output_type": "execute_result"
    }
   ],
   "source": [
    "#count :: to know the no of occurence \n",
    "s.count('a')"
   ]
  },
  {
   "cell_type": "code",
   "execution_count": 43,
   "id": "c2bd89c9",
   "metadata": {},
   "outputs": [
    {
     "data": {
      "text/plain": [
       "2"
      ]
     },
     "execution_count": 43,
     "metadata": {},
     "output_type": "execute_result"
    }
   ],
   "source": [
    "s.index('t') # searching start from the beginning"
   ]
  },
  {
   "cell_type": "code",
   "execution_count": 44,
   "id": "7c0eed37",
   "metadata": {},
   "outputs": [
    {
     "data": {
      "text/plain": [
       "34"
      ]
     },
     "execution_count": 44,
     "metadata": {},
     "output_type": "execute_result"
    }
   ],
   "source": [
    "s.rindex('t') # searching start from the ending"
   ]
  },
  {
   "cell_type": "code",
   "execution_count": 45,
   "id": "b58f64c8",
   "metadata": {},
   "outputs": [
    {
     "data": {
      "text/plain": [
       "2"
      ]
     },
     "execution_count": 45,
     "metadata": {},
     "output_type": "execute_result"
    }
   ],
   "source": [
    "# find--it will return index position of that character\n",
    "s.find('t')\n"
   ]
  },
  {
   "cell_type": "code",
   "execution_count": 46,
   "id": "70afa2e4",
   "metadata": {},
   "outputs": [
    {
     "data": {
      "text/plain": [
       "7"
      ]
     },
     "execution_count": 46,
     "metadata": {},
     "output_type": "execute_result"
    }
   ],
   "source": [
    "s.index('is')"
   ]
  },
  {
   "cell_type": "code",
   "execution_count": 49,
   "id": "afbd60e5",
   "metadata": {},
   "outputs": [
    {
     "data": {
      "text/plain": [
       "'sri vasavi college'"
      ]
     },
     "execution_count": 49,
     "metadata": {},
     "output_type": "execute_result"
    }
   ],
   "source": [
    "# replace-is used to replace the old charatcer\n",
    "# strip-used to remove white space by default\n",
    "d=\"bye vasavi college\"\n",
    "d.replace('bye','sri')\n"
   ]
  },
  {
   "cell_type": "code",
   "execution_count": 58,
   "id": "da2a2830",
   "metadata": {},
   "outputs": [
    {
     "name": "stdout",
     "output_type": "stream",
     "text": [
      "   hello sdc\n"
     ]
    }
   ],
   "source": [
    "d=\"   hello sdc\"\n",
    "print(d)"
   ]
  },
  {
   "cell_type": "code",
   "execution_count": 60,
   "id": "af90ae44",
   "metadata": {},
   "outputs": [
    {
     "data": {
      "text/plain": [
       "'hello sdc'"
      ]
     },
     "execution_count": 60,
     "metadata": {},
     "output_type": "execute_result"
    }
   ],
   "source": [
    "d.strip()"
   ]
  },
  {
   "cell_type": "code",
   "execution_count": 64,
   "id": "75a9c911",
   "metadata": {},
   "outputs": [
    {
     "data": {
      "text/plain": [
       "'hello sdc'"
      ]
     },
     "execution_count": 64,
     "metadata": {},
     "output_type": "execute_result"
    }
   ],
   "source": [
    "d.lstrip()"
   ]
  },
  {
   "cell_type": "code",
   "execution_count": 62,
   "id": "c830f1a3",
   "metadata": {},
   "outputs": [
    {
     "data": {
      "text/plain": [
       "'   hello sdc'"
      ]
     },
     "execution_count": 62,
     "metadata": {},
     "output_type": "execute_result"
    }
   ],
   "source": [
    "d.rstrip()"
   ]
  },
  {
   "cell_type": "code",
   "execution_count": 65,
   "id": "75c9730e",
   "metadata": {},
   "outputs": [
    {
     "data": {
      "text/plain": [
       "'t@h@u@r@s@d@a@y'"
      ]
     },
     "execution_count": 65,
     "metadata": {},
     "output_type": "execute_result"
    }
   ],
   "source": [
    "# join\n",
    "# centre\n",
    "# startwith\n",
    "# endwith\n",
    "s=\"thursday\"\n",
    "'@'.join(s)"
   ]
  },
  {
   "cell_type": "code",
   "execution_count": 66,
   "id": "758f6e64",
   "metadata": {},
   "outputs": [
    {
     "data": {
      "text/plain": [
       "'t-h-u-r-s-d-a-y'"
      ]
     },
     "execution_count": 66,
     "metadata": {},
     "output_type": "execute_result"
    }
   ],
   "source": [
    "s=\"thursday\"\n",
    "'-'.join(s)"
   ]
  },
  {
   "cell_type": "code",
   "execution_count": 67,
   "id": "5a4436ac",
   "metadata": {},
   "outputs": [
    {
     "data": {
      "text/plain": [
       "'t.h.u.r.s.d.a.y'"
      ]
     },
     "execution_count": 67,
     "metadata": {},
     "output_type": "execute_result"
    }
   ],
   "source": [
    "s=\"thursday\"\n",
    "'.'.join(s)"
   ]
  },
  {
   "cell_type": "code",
   "execution_count": 69,
   "id": "a66557a1",
   "metadata": {},
   "outputs": [
    {
     "data": {
      "text/plain": [
       "'thursday'"
      ]
     },
     "execution_count": 69,
     "metadata": {},
     "output_type": "execute_result"
    }
   ],
   "source": [
    "s.center(1)"
   ]
  },
  {
   "cell_type": "code",
   "execution_count": 70,
   "id": "0c1597a9",
   "metadata": {},
   "outputs": [
    {
     "data": {
      "text/plain": [
       "'00thursday'"
      ]
     },
     "execution_count": 70,
     "metadata": {},
     "output_type": "execute_result"
    }
   ],
   "source": [
    "s.zfill(10)"
   ]
  },
  {
   "cell_type": "code",
   "execution_count": 72,
   "id": "a2617520",
   "metadata": {},
   "outputs": [
    {
     "data": {
      "text/plain": [
       "'0000000today is 3rd day of the program'"
      ]
     },
     "execution_count": 72,
     "metadata": {},
     "output_type": "execute_result"
    }
   ],
   "source": [
    "s2=\"today is 3rd day of the program\"\n",
    "len(s2)\n",
    "s2.zfill(38)"
   ]
  },
  {
   "cell_type": "code",
   "execution_count": 74,
   "id": "73575fd0",
   "metadata": {},
   "outputs": [
    {
     "data": {
      "text/plain": [
       "True"
      ]
     },
     "execution_count": 74,
     "metadata": {},
     "output_type": "execute_result"
    }
   ],
   "source": [
    "s2.startswith('to')"
   ]
  },
  {
   "cell_type": "code",
   "execution_count": 75,
   "id": "fa0d2bfe",
   "metadata": {},
   "outputs": [
    {
     "data": {
      "text/plain": [
       "False"
      ]
     },
     "execution_count": 75,
     "metadata": {},
     "output_type": "execute_result"
    }
   ],
   "source": [
    "s2.startswith('end')"
   ]
  },
  {
   "cell_type": "code",
   "execution_count": 77,
   "id": "42ce21a7",
   "metadata": {},
   "outputs": [
    {
     "data": {
      "text/plain": [
       "False"
      ]
     },
     "execution_count": 77,
     "metadata": {},
     "output_type": "execute_result"
    }
   ],
   "source": [
    "s2.endswith('to')"
   ]
  },
  {
   "cell_type": "code",
   "execution_count": 79,
   "id": "b141a0e2",
   "metadata": {},
   "outputs": [
    {
     "data": {
      "text/plain": [
       "True"
      ]
     },
     "execution_count": 79,
     "metadata": {},
     "output_type": "execute_result"
    }
   ],
   "source": [
    "s2.endswith('program')"
   ]
  },
  {
   "cell_type": "markdown",
   "id": "dfee8ed6",
   "metadata": {},
   "source": [
    "## Data structures\n",
    " - List \n",
    "     - it is one of the data structre in python.\n",
    "     - list is mutable\n",
    "     - represented with []\n",
    "     - slicing,indexing are same as string concept.\n",
    " - Tuple\n",
    "     - tuple is used to []\n",
    "     - immutable\n",
    " - Set\n",
    "     - it is use to {}\n",
    " - Dictionaries\n",
    " \n",
    "* DT are two types:\n",
    "   - Mutable\n",
    "       - we can change at any time after its declartion.\n",
    "       - ex:list,dictionaries\n",
    "   - Immutable       \n",
    "       - we cann't change it once it declared\n",
    "       - ex:strings,tuples"
   ]
  },
  {
   "cell_type": "code",
   "execution_count": 80,
   "id": "d5868369",
   "metadata": {},
   "outputs": [
    {
     "name": "stdout",
     "output_type": "stream",
     "text": [
      "[2, 4, 7, 4, 9, 1]\n"
     ]
    }
   ],
   "source": [
    "li=[2,4,7,4,9,1]\n",
    "print(li)"
   ]
  },
  {
   "cell_type": "code",
   "execution_count": 81,
   "id": "3e76fa33",
   "metadata": {},
   "outputs": [
    {
     "data": {
      "text/plain": [
       "6"
      ]
     },
     "execution_count": 81,
     "metadata": {},
     "output_type": "execute_result"
    }
   ],
   "source": [
    "len(li)"
   ]
  },
  {
   "cell_type": "code",
   "execution_count": 82,
   "id": "6442a62a",
   "metadata": {},
   "outputs": [
    {
     "name": "stdout",
     "output_type": "stream",
     "text": [
      "length of the list  6\n",
      "max one of the list 9\n",
      "min one of the list 1\n"
     ]
    }
   ],
   "source": [
    "print(\"length of the list \",len(li))\n",
    "print(\"max one of the list\",max(li))\n",
    "print(\"min one of the list\",min(li))"
   ]
  },
  {
   "cell_type": "code",
   "execution_count": 86,
   "id": "2f3dbef3",
   "metadata": {},
   "outputs": [],
   "source": [
    "a=['apple',5,8,34,6]\n",
    "b=[4,8,'today',4]"
   ]
  },
  {
   "cell_type": "code",
   "execution_count": 87,
   "id": "0087aea0",
   "metadata": {},
   "outputs": [
    {
     "data": {
      "text/plain": [
       "['apple', 5, 8, 34, 6, 4, 8, 'today', 4]"
      ]
     },
     "execution_count": 87,
     "metadata": {},
     "output_type": "execute_result"
    }
   ],
   "source": [
    "a + b"
   ]
  },
  {
   "cell_type": "code",
   "execution_count": 88,
   "id": "ed97e378",
   "metadata": {},
   "outputs": [
    {
     "data": {
      "text/plain": [
       "[4, 8, 'today', 4, 'apple', 5, 8, 34, 6]"
      ]
     },
     "execution_count": 88,
     "metadata": {},
     "output_type": "execute_result"
    }
   ],
   "source": [
    "b+a"
   ]
  },
  {
   "cell_type": "code",
   "execution_count": 89,
   "id": "c76fddcf",
   "metadata": {},
   "outputs": [
    {
     "data": {
      "text/plain": [
       "['apple', 5, 8, 34, 6, 'apple', 5, 8, 34, 6, 'apple', 5, 8, 34, 6]"
      ]
     },
     "execution_count": 89,
     "metadata": {},
     "output_type": "execute_result"
    }
   ],
   "source": [
    "#repectetion\n",
    "a*3"
   ]
  },
  {
   "cell_type": "code",
   "execution_count": 92,
   "id": "6f40b8a3",
   "metadata": {},
   "outputs": [
    {
     "data": {
      "text/plain": [
       "['apple',\n",
       " 5,\n",
       " 8,\n",
       " 34,\n",
       " 6,\n",
       " 4,\n",
       " 8,\n",
       " 'today',\n",
       " 4,\n",
       " 'apple',\n",
       " 5,\n",
       " 8,\n",
       " 34,\n",
       " 6,\n",
       " 4,\n",
       " 8,\n",
       " 'today',\n",
       " 4]"
      ]
     },
     "execution_count": 92,
     "metadata": {},
     "output_type": "execute_result"
    }
   ],
   "source": [
    "(a+b)*2"
   ]
  },
  {
   "cell_type": "code",
   "execution_count": 93,
   "id": "2f2d218e",
   "metadata": {},
   "outputs": [
    {
     "data": {
      "text/plain": [
       "True"
      ]
     },
     "execution_count": 93,
     "metadata": {},
     "output_type": "execute_result"
    }
   ],
   "source": [
    "'apple' in a"
   ]
  },
  {
   "cell_type": "code",
   "execution_count": 94,
   "id": "0e8432bb",
   "metadata": {},
   "outputs": [
    {
     "data": {
      "text/plain": [
       "True"
      ]
     },
     "execution_count": 94,
     "metadata": {},
     "output_type": "execute_result"
    }
   ],
   "source": [
    "'today' not in a"
   ]
  },
  {
   "cell_type": "code",
   "execution_count": 95,
   "id": "9ddb270f",
   "metadata": {},
   "outputs": [
    {
     "data": {
      "text/plain": [
       "False"
      ]
     },
     "execution_count": 95,
     "metadata": {},
     "output_type": "execute_result"
    }
   ],
   "source": [
    "'apple'not in a"
   ]
  },
  {
   "cell_type": "code",
   "execution_count": 96,
   "id": "e02c556e",
   "metadata": {},
   "outputs": [
    {
     "data": {
      "text/plain": [
       "False"
      ]
     },
     "execution_count": 96,
     "metadata": {},
     "output_type": "execute_result"
    }
   ],
   "source": [
    "'today' in a"
   ]
  },
  {
   "cell_type": "code",
   "execution_count": 102,
   "id": "24775918",
   "metadata": {},
   "outputs": [
    {
     "data": {
      "text/plain": [
       "'snehaja'"
      ]
     },
     "execution_count": 102,
     "metadata": {},
     "output_type": "execute_result"
    }
   ],
   "source": [
    "names=['snehaja','siva','sasi','praveen','liki','pavan']\n",
    "names[0]\n"
   ]
  },
  {
   "cell_type": "code",
   "execution_count": 99,
   "id": "a3c767db",
   "metadata": {},
   "outputs": [
    {
     "data": {
      "text/plain": [
       "'pavan'"
      ]
     },
     "execution_count": 99,
     "metadata": {},
     "output_type": "execute_result"
    }
   ],
   "source": [
    "names[5]"
   ]
  },
  {
   "cell_type": "code",
   "execution_count": 101,
   "id": "0a62b0be",
   "metadata": {},
   "outputs": [
    {
     "data": {
      "text/plain": [
       "['snehaja', 'siva', 'sasi']"
      ]
     },
     "execution_count": 101,
     "metadata": {},
     "output_type": "execute_result"
    }
   ],
   "source": [
    "names[:3]"
   ]
  },
  {
   "cell_type": "code",
   "execution_count": 105,
   "id": "9996b94c",
   "metadata": {},
   "outputs": [
    {
     "data": {
      "text/plain": [
       "'haja'"
      ]
     },
     "execution_count": 105,
     "metadata": {},
     "output_type": "execute_result"
    }
   ],
   "source": [
    "s='snehaja'\n",
    "s[0]\n",
    "s[5]\n",
    "s[:3] #sne\n",
    "s[0:3] #sne\n",
    "s[3:6] #ehaja\n",
    "s[3:]  #"
   ]
  },
  {
   "cell_type": "code",
   "execution_count": 104,
   "id": "edbd03ad",
   "metadata": {},
   "outputs": [
    {
     "data": {
      "text/plain": [
       "'sne'"
      ]
     },
     "execution_count": 104,
     "metadata": {},
     "output_type": "execute_result"
    }
   ],
   "source": [
    "s[:3]"
   ]
  },
  {
   "cell_type": "code",
   "execution_count": 107,
   "id": "3b5d2009",
   "metadata": {},
   "outputs": [],
   "source": [
    "li1=['vasavi','college','students','buses']"
   ]
  },
  {
   "cell_type": "code",
   "execution_count": 108,
   "id": "30eae4d3",
   "metadata": {},
   "outputs": [
    {
     "data": {
      "text/plain": [
       "['students', 'buses']"
      ]
     },
     "execution_count": 108,
     "metadata": {},
     "output_type": "execute_result"
    }
   ],
   "source": [
    "li1[2:] "
   ]
  },
  {
   "cell_type": "code",
   "execution_count": 109,
   "id": "4bdcac74",
   "metadata": {},
   "outputs": [
    {
     "data": {
      "text/plain": [
       "['vasavi', 'college']"
      ]
     },
     "execution_count": 109,
     "metadata": {},
     "output_type": "execute_result"
    }
   ],
   "source": [
    "li1[:2]"
   ]
  },
  {
   "cell_type": "code",
   "execution_count": 110,
   "id": "29033ac1",
   "metadata": {},
   "outputs": [
    {
     "data": {
      "text/plain": [
       "['students', 'buses']"
      ]
     },
     "execution_count": 110,
     "metadata": {},
     "output_type": "execute_result"
    }
   ],
   "source": [
    "li1[2:5]"
   ]
  },
  {
   "cell_type": "code",
   "execution_count": null,
   "id": "99e283db",
   "metadata": {},
   "outputs": [],
   "source": []
  }
 ],
 "metadata": {
  "kernelspec": {
   "display_name": "Python 3 (ipykernel)",
   "language": "python",
   "name": "python3"
  },
  "language_info": {
   "codemirror_mode": {
    "name": "ipython",
    "version": 3
   },
   "file_extension": ".py",
   "mimetype": "text/x-python",
   "name": "python",
   "nbconvert_exporter": "python",
   "pygments_lexer": "ipython3",
   "version": "3.9.7"
  }
 },
 "nbformat": 4,
 "nbformat_minor": 5
}
