{
 "cells": [
  {
   "cell_type": "markdown",
   "id": "fae691b7",
   "metadata": {},
   "source": [
    "### While  \n",
    " - it execute block or set of instruction untile the condition is false  \n",
    " - while we dont the range  \n",
    " - execute faster then the for loop  \n",
    " - user increament  "
   ]
  },
  {
   "cell_type": "code",
   "execution_count": null,
   "id": "19f4867f",
   "metadata": {},
   "outputs": [],
   "source": [
    "# while syntax  \n",
    "initilization  \n",
    "while condition:\n",
    "    statement\n",
    "    ince/decrement"
   ]
  },
  {
   "cell_type": "code",
   "execution_count": 2,
   "id": "3ec93a4f",
   "metadata": {},
   "outputs": [
    {
     "name": "stdout",
     "output_type": "stream",
     "text": [
      "SRI VASAVI COLLEGE\n",
      "SRI VASAVI COLLEGE\n",
      "SRI VASAVI COLLEGE\n",
      "SRI VASAVI COLLEGE\n",
      "SRI VASAVI COLLEGE\n"
     ]
    }
   ],
   "source": [
    "n=1\n",
    "while n<=5:\n",
    "    print(\"SRI VASAVI COLLEGE\")\n",
    "    n=n+1"
   ]
  },
  {
   "cell_type": "code",
   "execution_count": 4,
   "id": "4a3e87b2",
   "metadata": {},
   "outputs": [
    {
     "name": "stdout",
     "output_type": "stream",
     "text": [
      "10 9 8 7 6 5 4 3 2 1 "
     ]
    }
   ],
   "source": [
    "n=10\n",
    "while n>=1:\n",
    "    print(n,end=\" \")\n",
    "    n=n-1\n"
   ]
  },
  {
   "cell_type": "code",
   "execution_count": 5,
   "id": "5fb099ae",
   "metadata": {},
   "outputs": [
    {
     "name": "stdout",
     "output_type": "stream",
     "text": [
      "1 2 3 4 5 6 7 8 9 10 "
     ]
    }
   ],
   "source": [
    "n=1\n",
    "while n<=10:\n",
    "    print(n,end=\" \")\n",
    "    n=n+1"
   ]
  },
  {
   "cell_type": "code",
   "execution_count": 6,
   "id": "b4a58206",
   "metadata": {},
   "outputs": [
    {
     "name": "stdout",
     "output_type": "stream",
     "text": [
      "1234\n",
      "\n",
      "digit count: 4\n"
     ]
    }
   ],
   "source": [
    "# I/P 1234\n",
    "# O/P digit count:4\n",
    "s=int(input())\n",
    "c=0\n",
    "while(s!=0): #1234!=0 123!=0 12!=0 1!=0\n",
    "    c=c+1    #1234%10=4 123%10=3 12%10=2\n",
    "    s=s//10\n",
    "print(\"\\ndigit count:\",c)\n"
   ]
  },
  {
   "cell_type": "code",
   "execution_count": 11,
   "id": "2a4bdae0",
   "metadata": {},
   "outputs": [
    {
     "name": "stdout",
     "output_type": "stream",
     "text": [
      "121\n",
      "its palindrom number\n"
     ]
    }
   ],
   "source": [
    "# check the given number is palindrom or not \n",
    "# 121-121\n",
    "# mom-mom\n",
    "n=int(input())\n",
    "temp=n\n",
    "rev=0 \n",
    "while(n!=0):\n",
    "    rem=n%10\n",
    "    rev=rev*10+rem\n",
    "    n=n//10\n",
    "if(temp==rev):\n",
    "    print(\"its palindrom number\")\n",
    "else:\n",
    "    print(\"its not palidorm\")\n",
    "    \n",
    "    \n",
    "    \n"
   ]
  },
  {
   "cell_type": "code",
   "execution_count": null,
   "id": "15eaa6e1",
   "metadata": {},
   "outputs": [],
   "source": [
    "# nested for loop \n",
    "for iter in range(start,end,step):\n",
    "    for iter in range(start,end,step)\n",
    "    statemnet1\n",
    "    statementn\n",
    "    "
   ]
  },
  {
   "cell_type": "code",
   "execution_count": null,
   "id": "2c66c970",
   "metadata": {},
   "outputs": [],
   "source": [
    " # matrix format\n",
    "    - rows, columns\n",
    "    - two dimensions\n",
    "        1 2 3\n",
    "        1 2 3\n",
    "        "
   ]
  },
  {
   "cell_type": "code",
   "execution_count": 13,
   "id": "37b5d2f2",
   "metadata": {},
   "outputs": [
    {
     "name": "stdout",
     "output_type": "stream",
     "text": [
      "1 1 1 1 \n",
      "2 2 2 2 \n",
      "3 3 3 3 \n",
      "4 4 4 4 \n"
     ]
    }
   ],
   "source": [
    "for row in range(1,5):\n",
    "    for column in range(1,5):\n",
    "        print(row,end=\" \")\n",
    "    print() # new line"
   ]
  },
  {
   "cell_type": "code",
   "execution_count": 14,
   "id": "02f3e30f",
   "metadata": {},
   "outputs": [
    {
     "name": "stdout",
     "output_type": "stream",
     "text": [
      "1 2 3 4 \n",
      "1 2 3 4 \n",
      "1 2 3 4 \n",
      "1 2 3 4 \n"
     ]
    }
   ],
   "source": [
    "for row in range(1,5):\n",
    "    for column in range(1,5):\n",
    "        print(column,end=\" \")\n",
    "    print() # new line"
   ]
  },
  {
   "cell_type": "code",
   "execution_count": 18,
   "id": "3fe26009",
   "metadata": {},
   "outputs": [
    {
     "name": "stdout",
     "output_type": "stream",
     "text": [
      "1*1 1*2 1*3 1*4 \n",
      "2*1 2*2 2*3 2*4 \n",
      "3*1 3*2 3*3 3*4 \n",
      "4*1 4*2 4*3 4*4 \n"
     ]
    }
   ],
   "source": [
    "for row in range(1,5):\n",
    "    for column in range(1,5):\n",
    "        print(row,column,sep=\"*\",end=\" \")\n",
    "    print() # new line"
   ]
  },
  {
   "cell_type": "code",
   "execution_count": 16,
   "id": "6a78ae8d",
   "metadata": {},
   "outputs": [
    {
     "name": "stdout",
     "output_type": "stream",
     "text": [
      "* * * * \n",
      "* * * * \n",
      "* * * * \n",
      "* * * * \n"
     ]
    }
   ],
   "source": [
    "for row in range(1,5):\n",
    "    for column in range(1,5):\n",
    "        print(\"*\",end=\" \")\n",
    "    print() # new line"
   ]
  },
  {
   "cell_type": "code",
   "execution_count": 3,
   "id": "50128fe2",
   "metadata": {},
   "outputs": [
    {
     "name": "stdout",
     "output_type": "stream",
     "text": [
      "* \n",
      "* * \n",
      "* * * \n",
      "* * * * \n",
      "* * * * * \n"
     ]
    }
   ],
   "source": [
    "for row in range(1,6):\n",
    "    for column in range(1,row+1):\n",
    "        print(\"*\",end=\" \")\n",
    "    print() # new line"
   ]
  },
  {
   "cell_type": "code",
   "execution_count": 4,
   "id": "57cea247",
   "metadata": {},
   "outputs": [
    {
     "name": "stdout",
     "output_type": "stream",
     "text": [
      "* * * * * * \n",
      "* * * * * \n",
      "* * * * \n",
      "* * * \n",
      "* * \n",
      "* \n"
     ]
    }
   ],
   "source": [
    "for row in range(6,0,-1):\n",
    "    for column in range(1,row+1):\n",
    "        print(\"*\",end=\" \")\n",
    "    print() # new line"
   ]
  },
  {
   "cell_type": "code",
   "execution_count": 5,
   "id": "31d49743",
   "metadata": {},
   "outputs": [
    {
     "name": "stdout",
     "output_type": "stream",
     "text": [
      "* \n",
      "* * \n",
      "* * * \n",
      "* * * * \n",
      "* * * * * \n",
      "* * * * * * \n",
      "* * * * * \n",
      "* * * * \n",
      "* * * \n",
      "* * \n",
      "* \n"
     ]
    }
   ],
   "source": [
    "for row in range(1,6):\n",
    "    for column in range(1,row+1):\n",
    "        print(\"*\",end=\" \")\n",
    "    print() # new line\n",
    "for row in range(6,0,-1):\n",
    "    for column in range(1,row+1):\n",
    "        print(\"*\",end=\" \")\n",
    "    print() # new line"
   ]
  },
  {
   "cell_type": "code",
   "execution_count": 1,
   "id": "5b6adf92",
   "metadata": {},
   "outputs": [
    {
     "name": "stdout",
     "output_type": "stream",
     "text": [
      "1\n",
      "10\n",
      "2 3 5 7 "
     ]
    }
   ],
   "source": [
    "# 1to 10\n",
    "# prime number : 2,3,5,7\n",
    "x=int(input())\n",
    "y=int(input())\n",
    "for n in range(x,y+1): # n=1 n=2 n=3 n=4\n",
    "    c=0\n",
    "    for var in range (1,n+1): #(1,1(1,2)(1,3)(1,4)\n",
    "        if n%var==0 # factors\n",
    "            c+=1    # factors count\n",
    "    if c==2:\n",
    "        print(n,end=\" \")\n",
    "    "
   ]
  },
  {
   "cell_type": "code",
   "execution_count": null,
   "id": "ee085158",
   "metadata": {},
   "outputs": [],
   "source": [
    "#nested while\n",
    "- loop inside another loop\n"
   ]
  },
  {
   "cell_type": "code",
   "execution_count": null,
   "id": "2ee18a93",
   "metadata": {},
   "outputs": [],
   "source": [
    "# syyntax\n",
    "initilization\n",
    "while condition:\n",
    "    statement\n",
    "    incr/decr\n",
    "    while cindtion:\n",
    "        statement\n",
    "        incr\\decr"
   ]
  },
  {
   "cell_type": "code",
   "execution_count": 8,
   "id": "5a912488",
   "metadata": {},
   "outputs": [
    {
     "name": "stdout",
     "output_type": "stream",
     "text": [
      "1 * 1 = 1\n",
      "1 * 2 = 2\n",
      "1 * 3 = 3\n",
      "1 * 4 = 4\n",
      "1 * 5 = 5\n",
      "1 * 6 = 6\n",
      "1 * 7 = 7\n",
      "1 * 8 = 8\n",
      "1 * 9 = 9\n",
      "1 * 10 = 10\n",
      "\n",
      "2 * 1 = 2\n",
      "2 * 2 = 4\n",
      "2 * 3 = 6\n",
      "2 * 4 = 8\n",
      "2 * 5 = 10\n",
      "2 * 6 = 12\n",
      "2 * 7 = 14\n",
      "2 * 8 = 16\n",
      "2 * 9 = 18\n",
      "2 * 10 = 20\n",
      "\n",
      "3 * 1 = 3\n",
      "3 * 2 = 6\n",
      "3 * 3 = 9\n",
      "3 * 4 = 12\n",
      "3 * 5 = 15\n",
      "3 * 6 = 18\n",
      "3 * 7 = 21\n",
      "3 * 8 = 24\n",
      "3 * 9 = 27\n",
      "3 * 10 = 30\n",
      "\n",
      "4 * 1 = 4\n",
      "4 * 2 = 8\n",
      "4 * 3 = 12\n",
      "4 * 4 = 16\n",
      "4 * 5 = 20\n",
      "4 * 6 = 24\n",
      "4 * 7 = 28\n",
      "4 * 8 = 32\n",
      "4 * 9 = 36\n",
      "4 * 10 = 40\n",
      "\n",
      "5 * 1 = 5\n",
      "5 * 2 = 10\n",
      "5 * 3 = 15\n",
      "5 * 4 = 20\n",
      "5 * 5 = 25\n",
      "5 * 6 = 30\n",
      "5 * 7 = 35\n",
      "5 * 8 = 40\n",
      "5 * 9 = 45\n",
      "5 * 10 = 50\n",
      "\n",
      "6 * 1 = 6\n",
      "6 * 2 = 12\n",
      "6 * 3 = 18\n",
      "6 * 4 = 24\n",
      "6 * 5 = 30\n",
      "6 * 6 = 36\n",
      "6 * 7 = 42\n",
      "6 * 8 = 48\n",
      "6 * 9 = 54\n",
      "6 * 10 = 60\n",
      "\n",
      "7 * 1 = 7\n",
      "7 * 2 = 14\n",
      "7 * 3 = 21\n",
      "7 * 4 = 28\n",
      "7 * 5 = 35\n",
      "7 * 6 = 42\n",
      "7 * 7 = 49\n",
      "7 * 8 = 56\n",
      "7 * 9 = 63\n",
      "7 * 10 = 70\n",
      "\n",
      "8 * 1 = 8\n",
      "8 * 2 = 16\n",
      "8 * 3 = 24\n",
      "8 * 4 = 32\n",
      "8 * 5 = 40\n",
      "8 * 6 = 48\n",
      "8 * 7 = 56\n",
      "8 * 8 = 64\n",
      "8 * 9 = 72\n",
      "8 * 10 = 80\n",
      "\n",
      "9 * 1 = 9\n",
      "9 * 2 = 18\n",
      "9 * 3 = 27\n",
      "9 * 4 = 36\n",
      "9 * 5 = 45\n",
      "9 * 6 = 54\n",
      "9 * 7 = 63\n",
      "9 * 8 = 72\n",
      "9 * 9 = 81\n",
      "9 * 10 = 90\n",
      "\n",
      "10 * 1 = 10\n",
      "10 * 2 = 20\n",
      "10 * 3 = 30\n",
      "10 * 4 = 40\n",
      "10 * 5 = 50\n",
      "10 * 6 = 60\n",
      "10 * 7 = 70\n",
      "10 * 8 = 80\n",
      "10 * 9 = 90\n",
      "10 * 10 = 100\n",
      "\n"
     ]
    }
   ],
   "source": [
    "# 1 to 10 tables\n",
    "i=1\n",
    "while i<=10:\n",
    "    j=1\n",
    "    while j<=10:\n",
    "        print(i,\"*\",j,\"=\",i*j)\n",
    "        j+=1\n",
    "    print()\n",
    "    i+=1"
   ]
  },
  {
   "cell_type": "markdown",
   "id": "8045a367",
   "metadata": {},
   "source": [
    "## Jumps statement\n",
    "* we called as unconditional jumps\n",
    "    - Break\n",
    "    - continue\n",
    "    - pass"
   ]
  },
  {
   "cell_type": "markdown",
   "id": "e4537898",
   "metadata": {},
   "source": [
    "### Break  \n",
    "- terminate the current loop statemnet \n",
    "- break is keyword"
   ]
  },
  {
   "cell_type": "code",
   "execution_count": 9,
   "id": "a111a1d4",
   "metadata": {},
   "outputs": [
    {
     "name": "stdout",
     "output_type": "stream",
     "text": [
      "p\n",
      "y\n",
      "t\n"
     ]
    }
   ],
   "source": [
    "for i in \"python\":\n",
    "    if i=='h':\n",
    "        break\n",
    "    print(i)"
   ]
  },
  {
   "cell_type": "code",
   "execution_count": 4,
   "id": "9aee2843",
   "metadata": {},
   "outputs": [
    {
     "name": "stdout",
     "output_type": "stream",
     "text": [
      "1\n",
      "2\n",
      "3\n",
      "4\n",
      "5\n"
     ]
    }
   ],
   "source": [
    "n=1\n",
    "while n<=10:\n",
    "    print(n)\n",
    "    n+=1\n",
    "    if n==6:\n",
    "        break"
   ]
  },
  {
   "cell_type": "markdown",
   "id": "280e5ebb",
   "metadata": {},
   "source": [
    "### Continue  \n",
    "- it skip only current iteration and continue the next iteration\n",
    "- continue is keyword"
   ]
  },
  {
   "cell_type": "code",
   "execution_count": 2,
   "id": "487c811a",
   "metadata": {},
   "outputs": [
    {
     "name": "stdout",
     "output_type": "stream",
     "text": [
      "0\n",
      "1\n",
      "2\n",
      "3\n",
      "4\n",
      "5\n",
      "7\n",
      "8\n",
      "9\n"
     ]
    }
   ],
   "source": [
    "for i in range(10):\n",
    "    if i==6:\n",
    "        continue\n",
    "        print(\"fdp\")\n",
    "    print(i)"
   ]
  },
  {
   "cell_type": "code",
   "execution_count": 11,
   "id": "6965035b",
   "metadata": {},
   "outputs": [
    {
     "name": "stdout",
     "output_type": "stream",
     "text": [
      "1 3 5 7 9 "
     ]
    }
   ],
   "source": [
    "# print odd number using even numbers condition using co\n",
    "for i in range(1,10):\n",
    "    if i%2==0:\n",
    "        continue\n",
    "    print(i,end=\" \")"
   ]
  },
  {
   "cell_type": "markdown",
   "id": "c7b04101",
   "metadata": {},
   "source": [
    "### Pass\n",
    "- it is keyword\n",
    "- when we need condition scientifically correct to change another change another operation\n",
    "- it is null operation\n",
    "- pass statement we use to create a empty classes also\n",
    "\n"
   ]
  },
  {
   "cell_type": "code",
   "execution_count": 12,
   "id": "5dbc9947",
   "metadata": {},
   "outputs": [
    {
     "name": "stdout",
     "output_type": "stream",
     "text": [
      "p\n",
      "y\n",
      "t\n",
      "pass executed\n",
      "h\n",
      "o\n",
      "n\n"
     ]
    }
   ],
   "source": [
    "x=\"python\"\n",
    "for i in x:\n",
    "    if i=='h':\n",
    "        pass\n",
    "        print(\"pass executed\")\n",
    "    print(i)"
   ]
  },
  {
   "cell_type": "markdown",
   "id": "3696523e",
   "metadata": {},
   "source": [
    "## String\n",
    "- string is a group of characters \n",
    "- string is a derived datatype and immulate\n",
    "- all strings are new return values"
   ]
  },
  {
   "cell_type": "code",
   "execution_count": 13,
   "id": "a4d8cac9",
   "metadata": {},
   "outputs": [
    {
     "name": "stdout",
     "output_type": "stream",
     "text": [
      "<class 'str'>\n"
     ]
    }
   ],
   "source": [
    "a=\" sri vasi college\"\n",
    "print(type(a))"
   ]
  },
  {
   "cell_type": "code",
   "execution_count": 14,
   "id": "9c4d2cf7",
   "metadata": {},
   "outputs": [
    {
     "name": "stdout",
     "output_type": "stream",
     "text": [
      "17\n"
     ]
    }
   ],
   "source": [
    "print(len(a))"
   ]
  },
  {
   "cell_type": "code",
   "execution_count": 21,
   "id": "2be810ff",
   "metadata": {},
   "outputs": [
    {
     "name": "stdout",
     "output_type": "stream",
     "text": [
      "h\n",
      "y\n",
      "['h', 'n', 'o', 'p', 't', 'y']\n"
     ]
    }
   ],
   "source": [
    "print(min(a))\n",
    "print(max(a))\n",
    "print(sorted(a))\n",
    "#print(sum(a))"
   ]
  },
  {
   "cell_type": "code",
   "execution_count": 22,
   "id": "1ed0a359",
   "metadata": {},
   "outputs": [
    {
     "name": "stdout",
     "output_type": "stream",
     "text": [
      "pythonworkshop\n",
      "python workshop\n"
     ]
    },
    {
     "ename": "TypeError",
     "evalue": "can't multiply sequence by non-int of type 'str'",
     "output_type": "error",
     "traceback": [
      "\u001b[1;31m---------------------------------------------------------------------------\u001b[0m",
      "\u001b[1;31mTypeError\u001b[0m                                 Traceback (most recent call last)",
      "\u001b[1;32m~\\AppData\\Local\\Temp/ipykernel_1696/303278063.py\u001b[0m in \u001b[0;36m<module>\u001b[1;34m\u001b[0m\n\u001b[0;32m      3\u001b[0m \u001b[0mprint\u001b[0m\u001b[1;33m(\u001b[0m\u001b[0ma\u001b[0m\u001b[1;33m+\u001b[0m\u001b[0mb\u001b[0m\u001b[1;33m)\u001b[0m\u001b[1;33m\u001b[0m\u001b[1;33m\u001b[0m\u001b[0m\n\u001b[0;32m      4\u001b[0m \u001b[0mprint\u001b[0m\u001b[1;33m(\u001b[0m\u001b[0ma\u001b[0m\u001b[1;33m,\u001b[0m\u001b[0mb\u001b[0m\u001b[1;33m)\u001b[0m\u001b[1;33m\u001b[0m\u001b[1;33m\u001b[0m\u001b[0m\n\u001b[1;32m----> 5\u001b[1;33m \u001b[0mprint\u001b[0m\u001b[1;33m(\u001b[0m\u001b[0ma\u001b[0m\u001b[1;33m*\u001b[0m\u001b[0mb\u001b[0m\u001b[1;33m)\u001b[0m\u001b[1;33m\u001b[0m\u001b[1;33m\u001b[0m\u001b[0m\n\u001b[0m",
      "\u001b[1;31mTypeError\u001b[0m: can't multiply sequence by non-int of type 'str'"
     ]
    }
   ],
   "source": [
    "a=\"python\"\n",
    "b=\"workshop\"\n",
    "print(a+b)\n",
    "print(a,b)\n",
    "print(a*b)"
   ]
  },
  {
   "cell_type": "code",
   "execution_count": 28,
   "id": "aa81bd9f",
   "metadata": {},
   "outputs": [
    {
     "name": "stdout",
     "output_type": "stream",
     "text": [
      "15\n",
      "p\n",
      "n\n",
      "p\n",
      "p\n",
      "o\n",
      "python workshop\n",
      "pohskrow nohtyp\n",
      "pyth\n",
      "n works\n",
      "\n"
     ]
    }
   ],
   "source": [
    "# slicing syntax::(start:end:step)\n",
    "# positive indexing(left or right)\n",
    "# negative indexing(right or left)\n",
    "s=\"python workshop\"\n",
    "print(len(s))\n",
    "print(s[0])\n",
    "print(s[5])\n",
    "print(s[14])\n",
    "print(s[-1])\n",
    "print(s[-2])\n",
    "print(s[::])\n",
    "print(s[::-1])\n",
    "print(s[0:4])\n",
    "print(s[5:12])\n",
    "print(s[-1:-5])\n"
   ]
  },
  {
   "cell_type": "code",
   "execution_count": null,
   "id": "d40f1552",
   "metadata": {},
   "outputs": [],
   "source": [
    "\n"
   ]
  }
 ],
 "metadata": {
  "kernelspec": {
   "display_name": "Python 3 (ipykernel)",
   "language": "python",
   "name": "python3"
  },
  "language_info": {
   "codemirror_mode": {
    "name": "ipython",
    "version": 3
   },
   "file_extension": ".py",
   "mimetype": "text/x-python",
   "name": "python",
   "nbconvert_exporter": "python",
   "pygments_lexer": "ipython3",
   "version": "3.9.7"
  }
 },
 "nbformat": 4,
 "nbformat_minor": 5
}
