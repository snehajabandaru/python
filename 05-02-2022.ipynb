{
 "cells": [
  {
   "cell_type": "markdown",
   "id": "5f7727bf",
   "metadata": {},
   "source": [
    "## File Handling\n",
    "- File : file is a name and location or memory used to store relative\n",
    "    - .csv,.py,.html,.txt,.ipynb,.mp4\n",
    "- Filehandling is  allowes user to handle file\n",
    "- Copmare to other languages programming handling file in  easy python\n",
    "- Read and write file along with otherfiles handle options to work on file\n",
    "- Steps on handling\n",
    "    - Open file\n",
    "    - Doing operation\n",
    "    - Close file\n",
    "- open function()\n",
    "    - We use open fun() inpython to open the file in read and write option\n",
    "    - To return a object we use in open function() along 2 arugement that accept the filename and mode .whether read or write \n",
    "    - Syntax:: open(filename.mode)\n",
    "    \n",
    "- Modes are 3 types to open file\n",
    "    - read()--'r'-->to read a file\n",
    "        - file_variable.read(size)\n",
    "    - write()--'w'-->to writ a file\n",
    "        - file_variable.write(data)\n",
    "    - append()--'a'-->to add a information on file \n",
    "        - file_variable.append(data)\n",
    "        \n",
    "- By default the file wil open 'r' mode\n",
    "- Close\n",
    "    - It is used closed file\n",
    "    - Every time you have to close at the end of the opertion.otherwise the change will not be applicable."
   ]
  },
  {
   "cell_type": "code",
   "execution_count": 9,
   "id": "0a7adb5a",
   "metadata": {},
   "outputs": [
    {
     "name": "stdout",
     "output_type": "stream",
     "text": [
      "successfully open\n"
     ]
    }
   ],
   "source": [
    "f=open(\"data.txt\",'r')\n",
    "if f:\n",
    "    print(\"successfully open\")\n",
    "else: \n",
    "    print(\"failed\")"
   ]
  },
  {
   "cell_type": "code",
   "execution_count": 10,
   "id": "b39eef5a",
   "metadata": {},
   "outputs": [
    {
     "name": "stdout",
     "output_type": "stream",
     "text": [
      "python programming\n"
     ]
    }
   ],
   "source": [
    "# read\n",
    "f=open(\"data.txt\")\n",
    "print(f.read())\n",
    "f.close()"
   ]
  },
  {
   "cell_type": "code",
   "execution_count": 11,
   "id": "43bdcf4b",
   "metadata": {},
   "outputs": [
    {
     "name": "stdout",
     "output_type": "stream",
     "text": [
      "python programming\n"
     ]
    }
   ],
   "source": [
    "# using with keyword automatically file will be closed\n",
    "with open(\"data.txt\") as f:\n",
    "    fr=f.read()\n",
    "    print(fr)"
   ]
  },
  {
   "cell_type": "code",
   "execution_count": 12,
   "id": "2543d2b6",
   "metadata": {},
   "outputs": [
    {
     "name": "stdout",
     "output_type": "stream",
     "text": [
      "python\n"
     ]
    }
   ],
   "source": [
    "f=open(\"data.txt\")\n",
    "print(f.read(6))\n",
    "f.close()"
   ]
  },
  {
   "cell_type": "code",
   "execution_count": 19,
   "id": "a2296863",
   "metadata": {},
   "outputs": [
    {
     "name": "stdout",
     "output_type": "stream",
     "text": [
      "18\n"
     ]
    }
   ],
   "source": [
    "f=open(\"data1.txt\",'w')\n",
    "fr=f.write('python programming')\n",
    "print(fr)\n",
    "f.close()"
   ]
  },
  {
   "cell_type": "markdown",
   "id": "757af487",
   "metadata": {},
   "source": [
    "### File Handling Methods\n",
    "- open()\n",
    "- read()\n",
    "- write()\n",
    "- close() \n",
    "- readline()\n",
    "- readlines()\n",
    "- seek()\n",
    "- tell()\n",
    "- Types modes:\n",
    "    - read()--'r'\n",
    "    - write()--'w'\n",
    "    - append()--'a'"
   ]
  },
  {
   "cell_type": "code",
   "execution_count": 29,
   "id": "ae345be0",
   "metadata": {},
   "outputs": [],
   "source": [
    "s=open(\"data.txt\")"
   ]
  },
  {
   "cell_type": "code",
   "execution_count": 32,
   "id": "61803869",
   "metadata": {},
   "outputs": [],
   "source": [
    "info=s.read(6)"
   ]
  },
  {
   "cell_type": "code",
   "execution_count": 33,
   "id": "553ac771",
   "metadata": {},
   "outputs": [
    {
     "name": "stdout",
     "output_type": "stream",
     "text": [
      " progr\n"
     ]
    }
   ],
   "source": [
    "print(info)"
   ]
  },
  {
   "cell_type": "code",
   "execution_count": 34,
   "id": "86f04391",
   "metadata": {},
   "outputs": [
    {
     "name": "stdout",
     "output_type": "stream",
     "text": [
      " programming\n"
     ]
    }
   ],
   "source": [
    "d=f.read()\n",
    "print(d)"
   ]
  },
  {
   "cell_type": "code",
   "execution_count": 36,
   "id": "837a3407",
   "metadata": {},
   "outputs": [],
   "source": [
    "f.close()"
   ]
  },
  {
   "cell_type": "code",
   "execution_count": 37,
   "id": "a8fdc9dc",
   "metadata": {},
   "outputs": [],
   "source": [
    "# write mode()\n",
    "# if it is used to write something in file\n",
    "# if the file be created and data will be written in that file"
   ]
  },
  {
   "cell_type": "code",
   "execution_count": 38,
   "id": "d9c81f36",
   "metadata": {},
   "outputs": [],
   "source": [
    "fo=open('data.txt','w')"
   ]
  },
  {
   "cell_type": "code",
   "execution_count": 39,
   "id": "64913f02",
   "metadata": {},
   "outputs": [
    {
     "data": {
      "text/plain": [
       "6"
      ]
     },
     "execution_count": 39,
     "metadata": {},
     "output_type": "execute_result"
    }
   ],
   "source": [
    "fo.write('gudbye')"
   ]
  },
  {
   "cell_type": "code",
   "execution_count": 42,
   "id": "50b4c70b",
   "metadata": {},
   "outputs": [
    {
     "data": {
      "text/plain": [
       "31"
      ]
     },
     "execution_count": 42,
     "metadata": {},
     "output_type": "execute_result"
    }
   ],
   "source": [
    "f=open('data.txt','a')\n",
    "fo.write(\"hello every one this is snehaja\")"
   ]
  },
  {
   "cell_type": "code",
   "execution_count": 44,
   "id": "74c391bf",
   "metadata": {},
   "outputs": [
    {
     "name": "stdout",
     "output_type": "stream",
     "text": [
      "gudbyehello every one this is snehaja\n",
      "\n"
     ]
    }
   ],
   "source": [
    "f=open('data.txt','r')\n",
    "s=f.readline()\n",
    "print(s)\n",
    "t=f.readline()\n",
    "print(t)"
   ]
  },
  {
   "cell_type": "code",
   "execution_count": 49,
   "id": "e0af1e58",
   "metadata": {},
   "outputs": [
    {
     "name": "stdout",
     "output_type": "stream",
     "text": [
      "number of lines in the line: 1\n"
     ]
    }
   ],
   "source": [
    "# no of lines of  given files\n",
    "with open('data.txt','r') as f:\n",
    "    no_of_lines=f.readlines()\n",
    "    print(\"number of lines in the line:\",len(no_of_lines))"
   ]
  },
  {
   "cell_type": "code",
   "execution_count": 51,
   "id": "c3bdc00f",
   "metadata": {},
   "outputs": [
    {
     "name": "stdout",
     "output_type": "stream",
     "text": [
      "number of words are: 6\n"
     ]
    }
   ],
   "source": [
    "# no of words in the given files \n",
    "words=0\n",
    "for line in no_of_lines:\n",
    "    words_list=line.split()\n",
    "    words+=len(words_list)\n",
    "print(\"number of words are:\",words)"
   ]
  },
  {
   "cell_type": "code",
   "execution_count": null,
   "id": "d3b8d4d1",
   "metadata": {},
   "outputs": [],
   "source": []
  }
 ],
 "metadata": {
  "kernelspec": {
   "display_name": "Python 3 (ipykernel)",
   "language": "python",
   "name": "python3"
  },
  "language_info": {
   "codemirror_mode": {
    "name": "ipython",
    "version": 3
   },
   "file_extension": ".py",
   "mimetype": "text/x-python",
   "name": "python",
   "nbconvert_exporter": "python",
   "pygments_lexer": "ipython3",
   "version": "3.9.7"
  }
 },
 "nbformat": 4,
 "nbformat_minor": 5
}
