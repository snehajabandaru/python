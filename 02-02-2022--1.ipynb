{
 "cells": [
  {
   "cell_type": "markdown",
   "id": "4ce651da",
   "metadata": {},
   "source": [
    "### input and output methods:-  \n",
    "- reading data and information from user-----***input()***  \n",
    "        -static input  \n",
    "        -dyanamic input  \n",
    "- display the information or data to the user-------***print()***  \n",
    "        "
   ]
  },
  {
   "cell_type": "code",
   "execution_count": 80,
   "id": "631325ec",
   "metadata": {},
   "outputs": [
    {
     "name": "stdout",
     "output_type": "stream",
     "text": [
      "20\n",
      "30\n"
     ]
    }
   ],
   "source": [
    "a=20  \n",
    "b=30  \n",
    "print(a)  \n",
    "print(b)  "
   ]
  },
  {
   "cell_type": "code",
   "execution_count": 81,
   "id": "22800900",
   "metadata": {},
   "outputs": [
    {
     "name": "stdout",
     "output_type": "stream",
     "text": [
      "snehaja\n"
     ]
    },
    {
     "data": {
      "text/plain": [
       "'snehaja'"
      ]
     },
     "execution_count": 81,
     "metadata": {},
     "output_type": "execute_result"
    }
   ],
   "source": [
    "a=input()  \n",
    "a"
   ]
  },
  {
   "cell_type": "code",
   "execution_count": 10,
   "id": "4cfa5a8a",
   "metadata": {},
   "outputs": [
    {
     "name": "stdout",
     "output_type": "stream",
     "text": [
      "enter user value367\n"
     ]
    },
    {
     "data": {
      "text/plain": [
       "'367'"
      ]
     },
     "execution_count": 10,
     "metadata": {},
     "output_type": "execute_result"
    }
   ],
   "source": [
    "a=input(\"enter user value\")  \n",
    "a  "
   ]
  },
  {
   "cell_type": "code",
   "execution_count": 2,
   "id": "2959f59f",
   "metadata": {},
   "outputs": [
    {
     "name": "stdout",
     "output_type": "stream",
     "text": [
      "enter user value367\n"
     ]
    },
    {
     "data": {
      "text/plain": [
       "367.0"
      ]
     },
     "execution_count": 2,
     "metadata": {},
     "output_type": "execute_result"
    }
   ],
   "source": [
    "a=float(input(\"enter user value\"))\n",
    "a"
   ]
  },
  {
   "cell_type": "code",
   "execution_count": 3,
   "id": "649fdc92",
   "metadata": {},
   "outputs": [
    {
     "name": "stdout",
     "output_type": "stream",
     "text": [
      "entre value637\n",
      "637\n"
     ]
    }
   ],
   "source": [
    "a=input(\"entre value\")  \n",
    "print(a)  "
   ]
  },
  {
   "cell_type": "code",
   "execution_count": 4,
   "id": "ca06f1ef",
   "metadata": {},
   "outputs": [
    {
     "name": "stdout",
     "output_type": "stream",
     "text": [
      "20 30 40\n"
     ]
    }
   ],
   "source": [
    "a=20  \n",
    "b=30  \n",
    "c=40  \n",
    "print(a,b,c)  "
   ]
  },
  {
   "cell_type": "code",
   "execution_count": 5,
   "id": "0a84e20d",
   "metadata": {},
   "outputs": [
    {
     "name": "stdout",
     "output_type": "stream",
     "text": [
      "Help on built-in function print in module builtins:\n",
      "\n",
      "print(...)\n",
      "    print(value, ..., sep=' ', end='\\n', file=sys.stdout, flush=False)\n",
      "    \n",
      "    Prints the values to a stream, or to sys.stdout by default.\n",
      "    Optional keyword arguments:\n",
      "    file:  a file-like object (stream); defaults to the current sys.stdout.\n",
      "    sep:   string inserted between values, default a space.\n",
      "    end:   string appended after the last value, default a newline.\n",
      "    flush: whether to forcibly flush the stream.\n",
      "\n"
     ]
    }
   ],
   "source": [
    "help(print)"
   ]
  },
  {
   "cell_type": "code",
   "execution_count": 12,
   "id": "4f9cd9a9",
   "metadata": {},
   "outputs": [
    {
     "name": "stdout",
     "output_type": "stream",
     "text": [
      "10,20,30%30\n"
     ]
    }
   ],
   "source": [
    "a=10  \n",
    "b=20  \n",
    "c=30  \n",
    "print(a,b,c,sep=\",\",end=\"%\")  \n",
    "print(c)  "
   ]
  },
  {
   "cell_type": "code",
   "execution_count": 13,
   "id": "1512b02f",
   "metadata": {},
   "outputs": [
    {
     "name": "stdout",
     "output_type": "stream",
     "text": [
      "10,20,30\n"
     ]
    }
   ],
   "source": [
    "a=10  \n",
    "b=20  \n",
    "c=30  \n",
    "print(a,b,c,sep=\",\")  \n"
   ]
  },
  {
   "cell_type": "code",
   "execution_count": 14,
   "id": "972783bf",
   "metadata": {},
   "outputs": [
    {
     "name": "stdout",
     "output_type": "stream",
     "text": [
      "10 20 30\n",
      "30\n"
     ]
    }
   ],
   "source": [
    "a=10  \n",
    "b=20  \n",
    "c=30  \n",
    "print(a,b,c)    \n",
    "print(c)"
   ]
  },
  {
   "cell_type": "code",
   "execution_count": 16,
   "id": "86827d10",
   "metadata": {},
   "outputs": [
    {
     "name": "stdout",
     "output_type": "stream",
     "text": [
      "10 20 30%"
     ]
    }
   ],
   "source": [
    "a=10  \n",
    "b=20  \n",
    "c=30  \n",
    "print(a,b,c,end=\"%\")  "
   ]
  },
  {
   "cell_type": "code",
   "execution_count": 17,
   "id": "6d2a8c30",
   "metadata": {},
   "outputs": [],
   "source": [
    "# generate three values from the user that values seprate with $ and end with %"
   ]
  },
  {
   "cell_type": "code",
   "execution_count": 7,
   "id": "fd6321b9",
   "metadata": {},
   "outputs": [
    {
     "name": "stdout",
     "output_type": "stream",
     "text": [
      "enter the x values10\n",
      "enter the y value20\n",
      "entre the z value30\n",
      "10$20$30%"
     ]
    }
   ],
   "source": [
    "x=input(\"enter the x values\") \n",
    "y=input(\"enter the y value\")  \n",
    "z=input(\"entre the z value\")  \n",
    "print(x,y,z,sep=\"$\",end=\"%\")"
   ]
  },
  {
   "cell_type": "markdown",
   "id": "07cfd45c",
   "metadata": {},
   "source": [
    "### operators  \n",
    " - Arthimatic operator(+,-,*,**,/,//,%)    \n",
    "     - output of the normal division is quotient  \n",
    "     - output of the int division or floor division is integer part of the quotient  \n",
    "     - output of the module division is remainder  \n",
    " - Logical operator(and,or,not)  \n",
    " - Assignment operator(=)  \n",
    " - Comparision operator(<,>,<=,>=,==)     \n",
    " - Bitwise operator(&,|,^)    \n",
    " - Identity operator(is (==),isnot(!=)    \n",
    " - Membership operator(in,notin)    "
   ]
  },
  {
   "cell_type": "markdown",
   "id": "53cd06c4",
   "metadata": {},
   "source": [
    "### Arthmatic opertor  "
   ]
  },
  {
   "cell_type": "code",
   "execution_count": 18,
   "id": "bb2432b1",
   "metadata": {},
   "outputs": [
    {
     "name": "stdout",
     "output_type": "stream",
     "text": [
      "addition 43\n",
      "subtration -3\n",
      "multipilication 460\n",
      "power 838860800000000000000000000000\n",
      "division 0.8695652173913043\n",
      "int division or floor division 0\n",
      "module 20\n"
     ]
    }
   ],
   "source": [
    "a=20  \n",
    "b=23  \n",
    "print(\"addition\",a+b)\n",
    "print(\"subtration\",a-b)  \n",
    "print(\"multipilication\",a*b)\n",
    "print(\"power\",a**b)  \n",
    "print(\"division\",a/b)  \n",
    "print(\"int division or floor division\",a//b)  \n",
    "print(\"module\",a%b)  "
   ]
  },
  {
   "cell_type": "markdown",
   "id": "27a42ee2",
   "metadata": {},
   "source": [
    "### Assignment  operator  \n",
    " - It represented with =  \n",
    " - Leftside value of the operator(=) is called as a variable  \n",
    " - rightside values of the variable(=) is calledas values  "
   ]
  },
  {
   "cell_type": "code",
   "execution_count": 19,
   "id": "e54a5ba7",
   "metadata": {},
   "outputs": [
    {
     "name": "stdout",
     "output_type": "stream",
     "text": [
      "10\n",
      "20\n"
     ]
    }
   ],
   "source": [
    "a=10  \n",
    "b=20\n",
    "print(a)  \n",
    "print(b)  "
   ]
  },
  {
   "cell_type": "markdown",
   "id": "1c6e517f",
   "metadata": {},
   "source": [
    "### Logical operator  \n",
    " - AND,OR, NOT  \n",
    " - If all the inputs are true the output is true  \n",
    " - If any of the input is true ore output is true(or)  \n",
    " - opposite operation  for the given one  "
   ]
  },
  {
   "cell_type": "code",
   "execution_count": 25,
   "id": "fcc038cf",
   "metadata": {},
   "outputs": [
    {
     "data": {
      "text/plain": [
       "False"
      ]
     },
     "execution_count": 25,
     "metadata": {},
     "output_type": "execute_result"
    }
   ],
   "source": [
    "4<8 and 3>6"
   ]
  },
  {
   "cell_type": "code",
   "execution_count": 27,
   "id": "93aaf16a",
   "metadata": {},
   "outputs": [
    {
     "data": {
      "text/plain": [
       "True"
      ]
     },
     "execution_count": 27,
     "metadata": {},
     "output_type": "execute_result"
    }
   ],
   "source": [
    "5<10 and 6<12"
   ]
  },
  {
   "cell_type": "code",
   "execution_count": 26,
   "id": "b25f9bd2",
   "metadata": {},
   "outputs": [
    {
     "data": {
      "text/plain": [
       "True"
      ]
     },
     "execution_count": 26,
     "metadata": {},
     "output_type": "execute_result"
    }
   ],
   "source": [
    "2<4 or 5>10"
   ]
  },
  {
   "cell_type": "code",
   "execution_count": 28,
   "id": "8cd6c61a",
   "metadata": {},
   "outputs": [
    {
     "data": {
      "text/plain": [
       "False"
      ]
     },
     "execution_count": 28,
     "metadata": {},
     "output_type": "execute_result"
    }
   ],
   "source": [
    "8>16 or 9>18"
   ]
  },
  {
   "cell_type": "code",
   "execution_count": 29,
   "id": "fe8e61f5",
   "metadata": {},
   "outputs": [
    {
     "data": {
      "text/plain": [
       "False"
      ]
     },
     "execution_count": 29,
     "metadata": {},
     "output_type": "execute_result"
    }
   ],
   "source": [
    "s=50\n",
    "not s"
   ]
  },
  {
   "cell_type": "markdown",
   "id": "23ff0065",
   "metadata": {},
   "source": [
    "### Comparision operator  "
   ]
  },
  {
   "cell_type": "code",
   "execution_count": 20,
   "id": "7755bd71",
   "metadata": {},
   "outputs": [
    {
     "data": {
      "text/plain": [
       "False"
      ]
     },
     "execution_count": 20,
     "metadata": {},
     "output_type": "execute_result"
    }
   ],
   "source": [
    "4>8  "
   ]
  },
  {
   "cell_type": "code",
   "execution_count": 21,
   "id": "160a00d2",
   "metadata": {},
   "outputs": [
    {
     "data": {
      "text/plain": [
       "True"
      ]
     },
     "execution_count": 21,
     "metadata": {},
     "output_type": "execute_result"
    }
   ],
   "source": [
    "3<6"
   ]
  },
  {
   "cell_type": "code",
   "execution_count": 24,
   "id": "e3eb5d57",
   "metadata": {},
   "outputs": [
    {
     "name": "stdout",
     "output_type": "stream",
     "text": [
      "invalid\n"
     ]
    }
   ],
   "source": [
    "if 4>8 and 3<=6:  \n",
    "    print(\"print true or false\")\n",
    "else:\n",
    "    print(\"invalid\")"
   ]
  },
  {
   "cell_type": "code",
   "execution_count": 22,
   "id": "ed075c2f",
   "metadata": {},
   "outputs": [
    {
     "data": {
      "text/plain": [
       "False"
      ]
     },
     "execution_count": 22,
     "metadata": {},
     "output_type": "execute_result"
    }
   ],
   "source": [
    "4>=8"
   ]
  },
  {
   "cell_type": "code",
   "execution_count": 23,
   "id": "66917659",
   "metadata": {},
   "outputs": [
    {
     "data": {
      "text/plain": [
       "True"
      ]
     },
     "execution_count": 23,
     "metadata": {},
     "output_type": "execute_result"
    }
   ],
   "source": [
    "3<=8"
   ]
  },
  {
   "cell_type": "markdown",
   "id": "ac502d08",
   "metadata": {},
   "source": [
    "### Bitwise operator"
   ]
  },
  {
   "cell_type": "code",
   "execution_count": 31,
   "id": "9ba88e05",
   "metadata": {},
   "outputs": [
    {
     "data": {
      "text/plain": [
       "2"
      ]
     },
     "execution_count": 31,
     "metadata": {},
     "output_type": "execute_result"
    }
   ],
   "source": [
    " 2 & 3  \n",
    " # 2- 0 0 1 0\n",
    " # 3- 0 0 1 1\n",
    " --------------\n",
    "#   - 0 0 1 0"
   ]
  },
  {
   "cell_type": "code",
   "execution_count": 32,
   "id": "74595453",
   "metadata": {},
   "outputs": [
    {
     "data": {
      "text/plain": [
       "7"
      ]
     },
     "execution_count": 32,
     "metadata": {},
     "output_type": "execute_result"
    }
   ],
   "source": [
    "3|4"
   ]
  },
  {
   "cell_type": "code",
   "execution_count": 33,
   "id": "e752f239",
   "metadata": {},
   "outputs": [
    {
     "data": {
      "text/plain": [
       "1"
      ]
     },
     "execution_count": 33,
     "metadata": {},
     "output_type": "execute_result"
    }
   ],
   "source": [
    " 2^3"
   ]
  },
  {
   "cell_type": "code",
   "execution_count": 34,
   "id": "e8e62f7c",
   "metadata": {},
   "outputs": [
    {
     "data": {
      "text/plain": [
       "16"
      ]
     },
     "execution_count": 34,
     "metadata": {},
     "output_type": "execute_result"
    }
   ],
   "source": [
    "2<<3"
   ]
  },
  {
   "cell_type": "code",
   "execution_count": 35,
   "id": "dba531b0",
   "metadata": {},
   "outputs": [
    {
     "data": {
      "text/plain": [
       "0"
      ]
     },
     "execution_count": 35,
     "metadata": {},
     "output_type": "execute_result"
    }
   ],
   "source": [
    "2>>3"
   ]
  },
  {
   "cell_type": "markdown",
   "id": "80f030b5",
   "metadata": {},
   "source": [
    "### Identity operator  "
   ]
  },
  {
   "cell_type": "code",
   "execution_count": 36,
   "id": "d9e14628",
   "metadata": {
    "scrolled": false
   },
   "outputs": [
    {
     "name": "stderr",
     "output_type": "stream",
     "text": [
      "<>:1: SyntaxWarning: \"is\" with a literal. Did you mean \"==\"?\n",
      "<>:1: SyntaxWarning: \"is not\" with a literal. Did you mean \"!=\"?\n",
      "<>:1: SyntaxWarning: \"is\" with a literal. Did you mean \"==\"?\n",
      "<>:1: SyntaxWarning: \"is not\" with a literal. Did you mean \"!=\"?\n",
      "C:\\Users\\Lab\\AppData\\Local\\Temp/ipykernel_2576/3067346996.py:1: SyntaxWarning: \"is\" with a literal. Did you mean \"==\"?\n",
      "  a is 50 and a is not 50\n",
      "C:\\Users\\Lab\\AppData\\Local\\Temp/ipykernel_2576/3067346996.py:1: SyntaxWarning: \"is not\" with a literal. Did you mean \"!=\"?\n",
      "  a is 50 and a is not 50\n"
     ]
    },
    {
     "data": {
      "text/plain": [
       "False"
      ]
     },
     "execution_count": 36,
     "metadata": {},
     "output_type": "execute_result"
    }
   ],
   "source": [
    "a is 50 and a is not 50"
   ]
  },
  {
   "cell_type": "code",
   "execution_count": 38,
   "id": "28e9664a",
   "metadata": {},
   "outputs": [
    {
     "data": {
      "text/plain": [
       "False"
      ]
     },
     "execution_count": 38,
     "metadata": {},
     "output_type": "execute_result"
    }
   ],
   "source": [
    "a==50 and a!=50"
   ]
  },
  {
   "cell_type": "markdown",
   "id": "23dee27b",
   "metadata": {},
   "source": [
    "### Membership operator  "
   ]
  },
  {
   "cell_type": "code",
   "execution_count": 39,
   "id": "62ad57e9",
   "metadata": {},
   "outputs": [
    {
     "data": {
      "text/plain": [
       "True"
      ]
     },
     "execution_count": 39,
     "metadata": {},
     "output_type": "execute_result"
    }
   ],
   "source": [
    "s=[1,2,4,6,8,9]\n",
    "4 in s"
   ]
  },
  {
   "cell_type": "code",
   "execution_count": 40,
   "id": "a75e340c",
   "metadata": {},
   "outputs": [
    {
     "data": {
      "text/plain": [
       "True"
      ]
     },
     "execution_count": 40,
     "metadata": {},
     "output_type": "execute_result"
    }
   ],
   "source": [
    "10 not in s"
   ]
  },
  {
   "cell_type": "code",
   "execution_count": 41,
   "id": "fbd5d221",
   "metadata": {},
   "outputs": [
    {
     "data": {
      "text/plain": [
       "False"
      ]
     },
     "execution_count": 41,
     "metadata": {},
     "output_type": "execute_result"
    }
   ],
   "source": [
    "4 not in s"
   ]
  },
  {
   "cell_type": "code",
   "execution_count": 42,
   "id": "0b3ebcfd",
   "metadata": {},
   "outputs": [
    {
     "data": {
      "text/plain": [
       "21"
      ]
     },
     "execution_count": 42,
     "metadata": {},
     "output_type": "execute_result"
    }
   ],
   "source": [
    "a=20 \n",
    "a=a+1  \n",
    "a"
   ]
  },
  {
   "cell_type": "code",
   "execution_count": 47,
   "id": "333d462a",
   "metadata": {},
   "outputs": [
    {
     "data": {
      "text/plain": [
       "29"
      ]
     },
     "execution_count": 47,
     "metadata": {},
     "output_type": "execute_result"
    }
   ],
   "source": [
    "b=30  \n",
    "b=b-1  \n",
    "b"
   ]
  },
  {
   "cell_type": "code",
   "execution_count": 46,
   "id": "ba075169",
   "metadata": {},
   "outputs": [
    {
     "data": {
      "text/plain": [
       "30"
      ]
     },
     "execution_count": 46,
     "metadata": {},
     "output_type": "execute_result"
    }
   ],
   "source": [
    "b=30  \n",
    "b=b*1  \n",
    "b"
   ]
  },
  {
   "cell_type": "code",
   "execution_count": 48,
   "id": "4339062f",
   "metadata": {},
   "outputs": [
    {
     "data": {
      "text/plain": [
       "15.0"
      ]
     },
     "execution_count": 48,
     "metadata": {},
     "output_type": "execute_result"
    }
   ],
   "source": [
    "b=30  \n",
    "b=b/2  \n",
    "b"
   ]
  },
  {
   "cell_type": "code",
   "execution_count": null,
   "id": "38eb9596",
   "metadata": {},
   "outputs": [],
   "source": [
    "a=10  \n",
    "# a+=1------->a=a+1  \n",
    "# a-=1------->a=a-1 \n",
    "# a*=1------->a=a*1  \n",
    "# a/=1------->a=a/1"
   ]
  },
  {
   "cell_type": "markdown",
   "id": "f81502fd",
   "metadata": {},
   "source": [
    "### Flow control  \n",
    " - Condition statemente (if,else,else if,nested if)  \n",
    " - Loops(for,while loop)  \n",
    " - Break,return"
   ]
  },
  {
   "cell_type": "code",
   "execution_count": 59,
   "id": "ad4e1946",
   "metadata": {},
   "outputs": [
    {
     "ename": "NameError",
     "evalue": "name 'condition' is not defined",
     "output_type": "error",
     "traceback": [
      "\u001b[1;31m---------------------------------------------------------------------------\u001b[0m",
      "\u001b[1;31mNameError\u001b[0m                                 Traceback (most recent call last)",
      "\u001b[1;32m~\\AppData\\Local\\Temp/ipykernel_2576/1516952525.py\u001b[0m in \u001b[0;36m<module>\u001b[1;34m\u001b[0m\n\u001b[0;32m      1\u001b[0m \u001b[1;31m# c-Language\u001b[0m\u001b[1;33m\u001b[0m\u001b[1;33m\u001b[0m\u001b[0m\n\u001b[1;32m----> 2\u001b[1;33m \u001b[1;32mif\u001b[0m\u001b[1;33m(\u001b[0m\u001b[0mcondition\u001b[0m\u001b[1;33m)\u001b[0m\u001b[1;33m:\u001b[0m\u001b[1;33m\u001b[0m\u001b[1;33m\u001b[0m\u001b[0m\n\u001b[0m\u001b[0;32m      3\u001b[0m     \u001b[0mprint\u001b[0m\u001b[1;33m(\u001b[0m\u001b[0ma\u001b[0m\u001b[1;33m)\u001b[0m\u001b[1;33m\u001b[0m\u001b[1;33m\u001b[0m\u001b[0m\n",
      "\u001b[1;31mNameError\u001b[0m: name 'condition' is not defined"
     ]
    }
   ],
   "source": [
    "# c-Language  \n",
    "if(condition):\n",
    "    print(a)"
   ]
  },
  {
   "cell_type": "markdown",
   "id": "0f2813a4",
   "metadata": {},
   "source": [
    "### Condition statement  "
   ]
  },
  {
   "cell_type": "code",
   "execution_count": null,
   "id": "16514ac9",
   "metadata": {},
   "outputs": [],
   "source": [
    "# if\n",
    "if (conditon):\n",
    "    statement1\n",
    "    statement2  \n",
    "    statement3  \n",
    "    ----------  \n",
    "    statementn"
   ]
  },
  {
   "cell_type": "code",
   "execution_count": null,
   "id": "f3c102e2",
   "metadata": {},
   "outputs": [],
   "source": [
    "# if else\n",
    "if(condition)\n",
    "    statement1\n",
    "    statement2  \n",
    "    statement3  \n",
    "    ----------  \n",
    "    statementn\n",
    "else:\n",
    "     statement1\n",
    "    statement2  \n",
    "    statement3  \n",
    "    ----------  \n",
    "    statementn"
   ]
  },
  {
   "cell_type": "code",
   "execution_count": null,
   "id": "9b587576",
   "metadata": {},
   "outputs": [],
   "source": [
    "# nested if else\n",
    "if(condition){\n",
    "    # if else\n",
    "if(condition)\n",
    "    statement1\n",
    "    statement2  \n",
    "    statement3  \n",
    "    ----------  \n",
    "    statementn\n",
    "else:\n",
    "     statement1\n",
    "    statement2  \n",
    "    statement3  \n",
    "    ----------  \n",
    "    statementn\n",
    "}\n",
    "else:\n",
    "    {\n",
    "        # if else\n",
    "if(condition)\n",
    "    statement1\n",
    "    statement2  \n",
    "    statement3  \n",
    "    ----------  \n",
    "    statementn\n",
    "else:\n",
    "     statement1\n",
    "    statement2  \n",
    "    statement3  \n",
    "    ----------  \n",
    "    statementn\n",
    "    }"
   ]
  },
  {
   "cell_type": "code",
   "execution_count": 52,
   "id": "f5f67f59",
   "metadata": {},
   "outputs": [
    {
     "name": "stdout",
     "output_type": "stream",
     "text": [
      "false\n"
     ]
    }
   ],
   "source": [
    "if 2>3:\n",
    "     print(\"true\")  \n",
    "else:\n",
    "        print(\"false\")\n"
   ]
  },
  {
   "cell_type": "code",
   "execution_count": 50,
   "id": "9d410bb4",
   "metadata": {},
   "outputs": [
    {
     "name": "stdout",
     "output_type": "stream",
     "text": [
      "enter the values2\n",
      "even number\n"
     ]
    }
   ],
   "source": [
    "# given number is even or odd  \n",
    "n=int(input(\"enter the values\"))\n",
    "if(n%2==0):\n",
    "    print(\"even number\")  \n",
    "else:\n",
    "    print(\"odd number\")  "
   ]
  },
  {
   "cell_type": "code",
   "execution_count": 51,
   "id": "86b462b8",
   "metadata": {},
   "outputs": [
    {
     "name": "stdout",
     "output_type": "stream",
     "text": [
      "enter the values36\n",
      "positive\n"
     ]
    }
   ],
   "source": [
    "# given number is zero or positive or negative  \n",
    "n=int(input(\"enter the values\"))  \n",
    "if(n==0):\n",
    "    print(\"zero\")  \n",
    "elif(n>0):\n",
    "    print(\"positive\")\n",
    "else:\n",
    "    print(\"negative\")\n",
    "    \n"
   ]
  },
  {
   "cell_type": "code",
   "execution_count": 56,
   "id": "11f8f42b",
   "metadata": {},
   "outputs": [
    {
     "name": "stdout",
     "output_type": "stream",
     "text": [
      "enter the value30\n",
      "invalid number\n"
     ]
    }
   ],
   "source": [
    "# number is divisible by 2 but not divisible by10\n",
    "n=int(input(\"enter the value\"))\n",
    "if(n%2==0 & n%10!=0):\n",
    "    print(\"valid number\")\n",
    "else:  \n",
    "    print(\"invalid number\")"
   ]
  },
  {
   "cell_type": "code",
   "execution_count": 55,
   "id": "721c0387",
   "metadata": {},
   "outputs": [
    {
     "name": "stderr",
     "output_type": "stream",
     "text": [
      "<>:3: SyntaxWarning: \"is\" with a literal. Did you mean \"==\"?\n",
      "<>:3: SyntaxWarning: \"is not\" with a literal. Did you mean \"!=\"?\n",
      "<>:3: SyntaxWarning: \"is\" with a literal. Did you mean \"==\"?\n",
      "<>:3: SyntaxWarning: \"is not\" with a literal. Did you mean \"!=\"?\n"
     ]
    },
    {
     "name": "stdout",
     "output_type": "stream",
     "text": [
      "enter the value5\n",
      "invalid number\n"
     ]
    },
    {
     "name": "stderr",
     "output_type": "stream",
     "text": [
      "C:\\Users\\Lab\\AppData\\Local\\Temp/ipykernel_2576/1891323112.py:3: SyntaxWarning: \"is\" with a literal. Did you mean \"==\"?\n",
      "  if(n%2 is 0 and n%10 is not 0):\n",
      "C:\\Users\\Lab\\AppData\\Local\\Temp/ipykernel_2576/1891323112.py:3: SyntaxWarning: \"is not\" with a literal. Did you mean \"!=\"?\n",
      "  if(n%2 is 0 and n%10 is not 0):\n"
     ]
    }
   ],
   "source": [
    "# number is divisible by 2 but not divisible by10\n",
    "n=int(input(\"enter the value\"))\n",
    "if(n%2 is 0 and n%10 is not 0):\n",
    "    print(\"valid number\")\n",
    "else:  \n",
    "    print(\"invalid number\")"
   ]
  },
  {
   "cell_type": "markdown",
   "id": "73be9cde",
   "metadata": {},
   "source": [
    "### Range  \n",
    " - Syntax for the range is range(start,end value.step value)\n",
    " - Starting value is include and end value is exclusive)  "
   ]
  },
  {
   "cell_type": "code",
   "execution_count": null,
   "id": "c2a2f68c",
   "metadata": {},
   "outputs": [],
   "source": [
    " range(start, end,step)"
   ]
  },
  {
   "cell_type": "code",
   "execution_count": null,
   "id": "72729ce1",
   "metadata": {},
   "outputs": [],
   "source": [
    " range(10,20,1)  \n",
    " # 10,11,12,13,14,15,16,17,18,19\n",
    " range(20,30,2)\n",
    " # 20,22,24,26,28\n",
    " range(50)\n",
    " # consider as start value \n",
    " range(20,30)\n",
    " # consider start value and end value\n",
    " # revers print\n",
    " range(10,1,-1)"
   ]
  },
  {
   "cell_type": "code",
   "execution_count": 60,
   "id": "6d3556a8",
   "metadata": {},
   "outputs": [
    {
     "data": {
      "text/plain": [
       "[10, 11, 12, 13, 14, 15, 16, 17, 18, 19]"
      ]
     },
     "execution_count": 60,
     "metadata": {},
     "output_type": "execute_result"
    }
   ],
   "source": [
    "list(range(10,20,1))"
   ]
  },
  {
   "cell_type": "code",
   "execution_count": 61,
   "id": "577e703b",
   "metadata": {},
   "outputs": [
    {
     "data": {
      "text/plain": [
       "[20, 22, 24, 26, 28]"
      ]
     },
     "execution_count": 61,
     "metadata": {},
     "output_type": "execute_result"
    }
   ],
   "source": [
    "list(range(20,30,2))"
   ]
  },
  {
   "cell_type": "code",
   "execution_count": 63,
   "id": "642d2bd1",
   "metadata": {},
   "outputs": [
    {
     "data": {
      "text/plain": [
       "[0, 1, 2, 3, 4, 5, 6, 7, 8, 9]"
      ]
     },
     "execution_count": 63,
     "metadata": {},
     "output_type": "execute_result"
    }
   ],
   "source": [
    "list(range(10))"
   ]
  },
  {
   "cell_type": "code",
   "execution_count": 64,
   "id": "bb35637a",
   "metadata": {},
   "outputs": [
    {
     "data": {
      "text/plain": [
       "[20, 21, 22, 23, 24, 25, 26, 27, 28, 29]"
      ]
     },
     "execution_count": 64,
     "metadata": {},
     "output_type": "execute_result"
    }
   ],
   "source": [
    "list(range(20,30))"
   ]
  },
  {
   "cell_type": "code",
   "execution_count": 65,
   "id": "6adf8eca",
   "metadata": {},
   "outputs": [
    {
     "data": {
      "text/plain": [
       "[10, 9, 8, 7, 6, 5, 4, 3, 2]"
      ]
     },
     "execution_count": 65,
     "metadata": {},
     "output_type": "execute_result"
    }
   ],
   "source": [
    "list(range(10,1,-1))"
   ]
  },
  {
   "cell_type": "markdown",
   "id": "c033a8c0",
   "metadata": {},
   "source": [
    "### Loops  \n",
    "    - For,while    \n",
    "    - for loop:: :A for loop in python id control flow statement \n",
    "    - That is used to repeatedly excute the a group of statemnet as long as\n",
    "    - condtion is satisfied\n",
    "    - such a type of statemnt is also known as an itteravtive statement \n",
    "    - Therfore \n",
    "    - a for loop is ittravtive statement"
   ]
  },
  {
   "cell_type": "code",
   "execution_count": null,
   "id": "73d36431",
   "metadata": {},
   "outputs": [],
   "source": [
    "syntax:::\n",
    "            for iter in iterable:# a range of predefined function in tne position of ittrative\n",
    "                statement1  \n",
    "                statement2   \n",
    "                statementn                  "
   ]
  },
  {
   "cell_type": "code",
   "execution_count": 3,
   "id": "a445a110",
   "metadata": {},
   "outputs": [
    {
     "name": "stdout",
     "output_type": "stream",
     "text": [
      "0\n",
      "1\n",
      "2\n",
      "3\n",
      "4\n"
     ]
    }
   ],
   "source": [
    "for i in range(5):\n",
    "    print(i) "
   ]
  },
  {
   "cell_type": "code",
   "execution_count": 4,
   "id": "4ef34227",
   "metadata": {},
   "outputs": [
    {
     "name": "stdout",
     "output_type": "stream",
     "text": [
      "0,1,2,3,4,"
     ]
    }
   ],
   "source": [
    "for i in range(5):\n",
    "    print(i,end=\",\")\n",
    "    "
   ]
  },
  {
   "cell_type": "code",
   "execution_count": 6,
   "id": "d21b0e41",
   "metadata": {},
   "outputs": [
    {
     "name": "stdout",
     "output_type": "stream",
     "text": [
      "0 2 4 6 8 10 "
     ]
    }
   ],
   "source": [
    "for i in range(0,11,2):\n",
    "    print(i,end=\" \") "
   ]
  },
  {
   "cell_type": "code",
   "execution_count": 56,
   "id": "f8c463dc",
   "metadata": {},
   "outputs": [
    {
     "name": "stdout",
     "output_type": "stream",
     "text": [
      "100 \n",
      " even number count: 51\n"
     ]
    }
   ],
   "source": [
    " # print the even numbers in the range of 0 to 100 \n",
    " # and print even number count   \n",
    "c=0\n",
    "for i in range(0,101,2):\n",
    "    c=c+1\n",
    "print(i,end=\" \")  \n",
    "print(\"\\n even number count:\",c)"
   ]
  },
  {
   "cell_type": "code",
   "execution_count": 73,
   "id": "2b69e6c5",
   "metadata": {},
   "outputs": [
    {
     "name": "stdout",
     "output_type": "stream",
     "text": [
      "0 2 4 6 8 10 12 14 16 18 20 22 24 26 28 30 32 34 36 38 40 42 44 46 48 50 52 54 56 58 60 62 64 66 68 70 72 74 76 78 80 82 84 86 88 90 92 94 96 98 100 \n",
      "even number count: 51\n"
     ]
    }
   ],
   "source": [
    "c=0\n",
    "for i in range(0,101):\n",
    "    if i%2==0:\n",
    "        c=c+1\n",
    "        print(i,end=\" \")  \n",
    "print(\"\\neven number count:\",c)"
   ]
  },
  {
   "cell_type": "code",
   "execution_count": 72,
   "id": "06245dab",
   "metadata": {},
   "outputs": [
    {
     "name": "stdout",
     "output_type": "stream",
     "text": [
      "1 3 5 7 9 11 13 15 17 19 21 23 25 27 29 31 33 35 37 39 41 43 45 47 49 51 53 55 57 59 61 63 65 67 69 71 73 75 77 79 81 83 85 87 89 91 93 95 97 99 \n",
      "odd number count: 50\n"
     ]
    }
   ],
   "source": [
    "c=0\n",
    "for i in range(0,101):\n",
    "    if i%2!=0:\n",
    "        c=c+1\n",
    "        print(i,end=\" \")  \n",
    "print(\"\\nodd number count:\",c)"
   ]
  },
  {
   "cell_type": "code",
   "execution_count": 66,
   "id": "a65315d3",
   "metadata": {},
   "outputs": [
    {
     "name": "stdout",
     "output_type": "stream",
     "text": [
      "2000\n",
      "2020\n",
      "2000 2004 2008 2012 2016 2020 \n",
      "years count: 6\n"
     ]
    }
   ],
   "source": [
    " # print leep years from the range of 2000 to2020,print years count\n",
    "x=int(input())  \n",
    "y=int(input())  \n",
    "c=0\n",
    "for i in range(x,y+1):\n",
    "    if(i%400==0) and (i%100!=0) or (i%4==0):\n",
    "        c=c+1\n",
    "        print(i,end=\" \")\n",
    "print(\"\\nyears count:\",c)  \n",
    "    "
   ]
  },
  {
   "cell_type": "code",
   "execution_count": 69,
   "id": "f682a2d1",
   "metadata": {},
   "outputs": [
    {
     "name": "stdout",
     "output_type": "stream",
     "text": [
      "5 * 1 = 5\n",
      "5 * 2 = 10\n",
      "5 * 3 = 15\n",
      "5 * 4 = 20\n",
      "5 * 5 = 25\n",
      "5 * 6 = 30\n",
      "5 * 7 = 35\n",
      "5 * 8 = 40\n",
      "5 * 9 = 45\n",
      "5 * 10 = 50\n"
     ]
    }
   ],
   "source": [
    "n=5  \n",
    "for i in range(1,11):  \n",
    "     print(n,\"*\",i,\"=\",n*i)  "
   ]
  },
  {
   "cell_type": "code",
   "execution_count": 71,
   "id": "39ec7275",
   "metadata": {},
   "outputs": [
    {
     "name": "stdout",
     "output_type": "stream",
     "text": [
      "1 5 "
     ]
    }
   ],
   "source": [
    " # print factors of 5  \n",
    "n=5\n",
    "for i in range(1,n+1):\n",
    "    if (n%i==0):\n",
    "        print(i,end=\" \")"
   ]
  },
  {
   "cell_type": "code",
   "execution_count": 54,
   "id": "ec10261b",
   "metadata": {},
   "outputs": [
    {
     "name": "stdout",
     "output_type": "stream",
     "text": [
      "ABC\n",
      "198\n"
     ]
    }
   ],
   "source": [
    " # I/P=abc  \n",
    " # 97+98+97=292\n",
    " # O/P=292 \n",
    "a=input()\n",
    "s=0\n",
    "for i in a:\n",
    "    s=s+ord(i)\n",
    "print(s)"
   ]
  },
  {
   "cell_type": "code",
   "execution_count": 82,
   "id": "31a2ed46",
   "metadata": {},
   "outputs": [
    {
     "name": "stdout",
     "output_type": "stream",
     "text": [
      "4\n",
      "not a prime number\n"
     ]
    }
   ],
   "source": [
    "# check the given number is prime or not  \n",
    "n=int(input())  \n",
    "c=0\n",
    "for i in range(1,n+1):\n",
    "    if(n%i==0):\n",
    "        c=c+1\n",
    "if(c==2):\n",
    "    print(\"prime number is\")\n",
    "else:\n",
    "    print(\"not a prime number\")\n",
    "    "
   ]
  },
  {
   "cell_type": "code",
   "execution_count": 3,
   "id": "c6793ff3",
   "metadata": {},
   "outputs": [
    {
     "name": "stdout",
     "output_type": "stream",
     "text": [
      "0\n",
      "10\n",
      "even number are: 0 2 4 6 8 10 \n",
      "odd number are: 1 3 5 7 9 "
     ]
    }
   ],
   "source": [
    "# 0-10\n",
    "# even number  \n",
    "# odd number \n",
    "n=int(input()) \n",
    "m=int(input()) \n",
    "print(\"even number are:\",end=\" \")\n",
    "for i in range(n,m+1):\n",
    "    if i%2==0:\n",
    "        print(i,end=\" \")\n",
    "print(\"\\nodd number are:\",end=\" \")\n",
    "for i in range(n,m+1):\n",
    "    if i%2!=0:\n",
    "        print(i,end=\" \")\n"
   ]
  },
  {
   "cell_type": "code",
   "execution_count": null,
   "id": "34c418be",
   "metadata": {},
   "outputs": [],
   "source": []
  }
 ],
 "metadata": {
  "kernelspec": {
   "display_name": "Python 3 (ipykernel)",
   "language": "python",
   "name": "python3"
  },
  "language_info": {
   "codemirror_mode": {
    "name": "ipython",
    "version": 3
   },
   "file_extension": ".py",
   "mimetype": "text/x-python",
   "name": "python",
   "nbconvert_exporter": "python",
   "pygments_lexer": "ipython3",
   "version": "3.9.7"
  }
 },
 "nbformat": 4,
 "nbformat_minor": 5
}
